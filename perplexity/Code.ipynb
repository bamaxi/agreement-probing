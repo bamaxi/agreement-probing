{
 "cells": [
  {
   "cell_type": "code",
   "execution_count": 1,
   "id": "a54fef42-3be1-409b-b3ff-2f9f09d9d4d6",
   "metadata": {},
   "outputs": [],
   "source": [
    "# !export HF_HOME=\"/workspace/.cache/huggingface\"\n",
    "# !export HF_DATASETS_CACHE=\"/workspace/.cache/huggingface\""
   ]
  },
  {
   "cell_type": "code",
   "execution_count": 1,
   "id": "67949c21-7296-4896-98bf-a799b7023e95",
   "metadata": {},
   "outputs": [
    {
     "name": "stderr",
     "output_type": "stream",
     "text": [
      "/home/serikoo/miniconda3/envs/agreement-env/lib/python3.10/site-packages/tqdm/auto.py:21: TqdmWarning: IProgress not found. Please update jupyter and ipywidgets. See https://ipywidgets.readthedocs.io/en/stable/user_install.html\n",
      "  from .autonotebook import tqdm as notebook_tqdm\n"
     ]
    }
   ],
   "source": [
    "import torch\n",
    "from transformers import AutoModelForCausalLM, AutoTokenizer, pipeline"
   ]
  },
  {
   "cell_type": "code",
   "execution_count": 3,
   "id": "b663634b-bdc9-4251-b570-510a4dbe61cd",
   "metadata": {},
   "outputs": [
    {
     "name": "stderr",
     "output_type": "stream",
     "text": [
      "pytorch_model-00001-of-00006.bin: 100%|██████████| 9.92G/9.92G [09:44<00:00, 17.0MB/s]\n",
      "pytorch_model-00002-of-00006.bin: 100%|██████████| 9.68G/9.68G [07:14<00:00, 22.3MB/s]\n",
      "pytorch_model-00004-of-00006.bin: 100%|██████████| 10.0G/10.0G [11:28<00:00, 14.5MB/s]\n",
      "Downloading shards: 100%|██████████| 6/6 [43:35<00:00, 435.86s/it]\n",
      "Loading checkpoint shards:  33%|███▎      | 2/6 [00:22<00:44, 11.20s/it]\n"
     ]
    },
    {
     "ename": "OutOfMemoryError",
     "evalue": "CUDA out of memory. Tried to allocate 100.00 MiB (GPU 0; 19.70 GiB total capacity; 6.66 GiB already allocated; 100.56 MiB free; 6.81 GiB reserved in total by PyTorch) If reserved memory is >> allocated memory try setting max_split_size_mb to avoid fragmentation.  See documentation for Memory Management and PYTORCH_CUDA_ALLOC_CONF",
     "output_type": "error",
     "traceback": [
      "\u001b[0;31m---------------------------------------------------------------------------\u001b[0m",
      "\u001b[0;31mOutOfMemoryError\u001b[0m                          Traceback (most recent call last)",
      "Cell \u001b[0;32mIn[3], line 5\u001b[0m\n\u001b[1;32m      2\u001b[0m \u001b[39m# name = 'ai-forever/mGPT-13B'\u001b[39;00m\n\u001b[1;32m      3\u001b[0m \u001b[39m#name = 'ai-forever/rugpt3small_based_on_gpt2'\u001b[39;00m\n\u001b[1;32m      4\u001b[0m \u001b[39mfrom\u001b[39;00m \u001b[39mutils\u001b[39;00m \u001b[39mimport\u001b[39;00m load_model_tokenizer_config\n\u001b[0;32m----> 5\u001b[0m model, tokenizer, _ \u001b[39m=\u001b[39m load_model_tokenizer_config(name)\n",
      "File \u001b[0;32m~/AgreementProbing-1/utils.py:7\u001b[0m, in \u001b[0;36mload_model_tokenizer_config\u001b[0;34m(model_name, output_attentions)\u001b[0m\n\u001b[1;32m      6\u001b[0m \u001b[39mdef\u001b[39;00m \u001b[39mload_model_tokenizer_config\u001b[39m(model_name\u001b[39m=\u001b[39mMODEL_NAME, output_attentions\u001b[39m=\u001b[39m\u001b[39mFalse\u001b[39;00m):\n\u001b[0;32m----> 7\u001b[0m     model \u001b[39m=\u001b[39m AutoModelForCausalLM\u001b[39m.\u001b[39;49mfrom_pretrained(\n\u001b[1;32m      8\u001b[0m         model_name,\n\u001b[1;32m      9\u001b[0m         device_map\u001b[39m=\u001b[39;49m\u001b[39m'\u001b[39;49m\u001b[39mcuda:0\u001b[39;49m\u001b[39m'\u001b[39;49m,\n\u001b[1;32m     10\u001b[0m         load_in_8bit\u001b[39m=\u001b[39;49m\u001b[39mTrue\u001b[39;49;00m,\n\u001b[1;32m     11\u001b[0m         offload_folder\u001b[39m=\u001b[39;49m\u001b[39m'\u001b[39;49m\u001b[39m./_tmp\u001b[39;49m\u001b[39m'\u001b[39;49m,\n\u001b[1;32m     12\u001b[0m         max_memory\u001b[39m=\u001b[39;49m{\u001b[39m0\u001b[39;49m: \u001b[39mf\u001b[39;49m\u001b[39m'\u001b[39;49m\u001b[39m{\u001b[39;49;00m\u001b[39mint\u001b[39;49m(torch\u001b[39m.\u001b[39;49mcuda\u001b[39m.\u001b[39;49mmem_get_info()[\u001b[39m0\u001b[39;49m]\u001b[39m \u001b[39;49m\u001b[39m/\u001b[39;49m\u001b[39m \u001b[39;49m\u001b[39m1024\u001b[39;49m\u001b[39m \u001b[39;49m\u001b[39m*\u001b[39;49m\u001b[39m*\u001b[39;49m\u001b[39m \u001b[39;49m\u001b[39m3\u001b[39;49m)\u001b[39m \u001b[39;49m\u001b[39m-\u001b[39;49m\u001b[39m \u001b[39;49m\u001b[39m2\u001b[39;49m\u001b[39m}\u001b[39;49;00m\u001b[39mGB\u001b[39;49m\u001b[39m'\u001b[39;49m},\n\u001b[1;32m     13\u001b[0m         cache_dir\u001b[39m=\u001b[39;49m\u001b[39m\"\u001b[39;49m\u001b[39m.cache/huggingface\u001b[39;49m\u001b[39m\"\u001b[39;49m,\n\u001b[1;32m     14\u001b[0m         output_attentions\u001b[39m=\u001b[39;49moutput_attentions\n\u001b[1;32m     15\u001b[0m     )\n\u001b[1;32m     16\u001b[0m     config \u001b[39m=\u001b[39m AutoConfig\u001b[39m.\u001b[39mfrom_pretrained(model_name)\n\u001b[1;32m     17\u001b[0m     tokenizer \u001b[39m=\u001b[39m AutoTokenizer\u001b[39m.\u001b[39mfrom_pretrained(model_name, use_fast\u001b[39m=\u001b[39m\u001b[39mFalse\u001b[39;00m)\n",
      "File \u001b[0;32m~/miniconda3/envs/agreement-env/lib/python3.10/site-packages/transformers/models/auto/auto_factory.py:566\u001b[0m, in \u001b[0;36m_BaseAutoModelClass.from_pretrained\u001b[0;34m(cls, pretrained_model_name_or_path, *model_args, **kwargs)\u001b[0m\n\u001b[1;32m    564\u001b[0m \u001b[39melif\u001b[39;00m \u001b[39mtype\u001b[39m(config) \u001b[39min\u001b[39;00m \u001b[39mcls\u001b[39m\u001b[39m.\u001b[39m_model_mapping\u001b[39m.\u001b[39mkeys():\n\u001b[1;32m    565\u001b[0m     model_class \u001b[39m=\u001b[39m _get_model_class(config, \u001b[39mcls\u001b[39m\u001b[39m.\u001b[39m_model_mapping)\n\u001b[0;32m--> 566\u001b[0m     \u001b[39mreturn\u001b[39;00m model_class\u001b[39m.\u001b[39;49mfrom_pretrained(\n\u001b[1;32m    567\u001b[0m         pretrained_model_name_or_path, \u001b[39m*\u001b[39;49mmodel_args, config\u001b[39m=\u001b[39;49mconfig, \u001b[39m*\u001b[39;49m\u001b[39m*\u001b[39;49mhub_kwargs, \u001b[39m*\u001b[39;49m\u001b[39m*\u001b[39;49mkwargs\n\u001b[1;32m    568\u001b[0m     )\n\u001b[1;32m    569\u001b[0m \u001b[39mraise\u001b[39;00m \u001b[39mValueError\u001b[39;00m(\n\u001b[1;32m    570\u001b[0m     \u001b[39mf\u001b[39m\u001b[39m\"\u001b[39m\u001b[39mUnrecognized configuration class \u001b[39m\u001b[39m{\u001b[39;00mconfig\u001b[39m.\u001b[39m\u001b[39m__class__\u001b[39m\u001b[39m}\u001b[39;00m\u001b[39m for this kind of AutoModel: \u001b[39m\u001b[39m{\u001b[39;00m\u001b[39mcls\u001b[39m\u001b[39m.\u001b[39m\u001b[39m__name__\u001b[39m\u001b[39m}\u001b[39;00m\u001b[39m.\u001b[39m\u001b[39m\\n\u001b[39;00m\u001b[39m\"\u001b[39m\n\u001b[1;32m    571\u001b[0m     \u001b[39mf\u001b[39m\u001b[39m\"\u001b[39m\u001b[39mModel type should be one of \u001b[39m\u001b[39m{\u001b[39;00m\u001b[39m'\u001b[39m\u001b[39m, \u001b[39m\u001b[39m'\u001b[39m\u001b[39m.\u001b[39mjoin(c\u001b[39m.\u001b[39m\u001b[39m__name__\u001b[39m\u001b[39m \u001b[39m\u001b[39mfor\u001b[39;00m\u001b[39m \u001b[39mc\u001b[39m \u001b[39m\u001b[39min\u001b[39;00m\u001b[39m \u001b[39m\u001b[39mcls\u001b[39m\u001b[39m.\u001b[39m_model_mapping\u001b[39m.\u001b[39mkeys())\u001b[39m}\u001b[39;00m\u001b[39m.\u001b[39m\u001b[39m\"\u001b[39m\n\u001b[1;32m    572\u001b[0m )\n",
      "File \u001b[0;32m~/miniconda3/envs/agreement-env/lib/python3.10/site-packages/transformers/modeling_utils.py:3706\u001b[0m, in \u001b[0;36mPreTrainedModel.from_pretrained\u001b[0;34m(cls, pretrained_model_name_or_path, config, cache_dir, ignore_mismatched_sizes, force_download, local_files_only, token, revision, use_safetensors, *model_args, **kwargs)\u001b[0m\n\u001b[1;32m   3697\u001b[0m     \u001b[39mif\u001b[39;00m dtype_orig \u001b[39mis\u001b[39;00m \u001b[39mnot\u001b[39;00m \u001b[39mNone\u001b[39;00m:\n\u001b[1;32m   3698\u001b[0m         torch\u001b[39m.\u001b[39mset_default_dtype(dtype_orig)\n\u001b[1;32m   3699\u001b[0m     (\n\u001b[1;32m   3700\u001b[0m         model,\n\u001b[1;32m   3701\u001b[0m         missing_keys,\n\u001b[1;32m   3702\u001b[0m         unexpected_keys,\n\u001b[1;32m   3703\u001b[0m         mismatched_keys,\n\u001b[1;32m   3704\u001b[0m         offload_index,\n\u001b[1;32m   3705\u001b[0m         error_msgs,\n\u001b[0;32m-> 3706\u001b[0m     ) \u001b[39m=\u001b[39m \u001b[39mcls\u001b[39;49m\u001b[39m.\u001b[39;49m_load_pretrained_model(\n\u001b[1;32m   3707\u001b[0m         model,\n\u001b[1;32m   3708\u001b[0m         state_dict,\n\u001b[1;32m   3709\u001b[0m         loaded_state_dict_keys,  \u001b[39m# XXX: rename?\u001b[39;49;00m\n\u001b[1;32m   3710\u001b[0m         resolved_archive_file,\n\u001b[1;32m   3711\u001b[0m         pretrained_model_name_or_path,\n\u001b[1;32m   3712\u001b[0m         ignore_mismatched_sizes\u001b[39m=\u001b[39;49mignore_mismatched_sizes,\n\u001b[1;32m   3713\u001b[0m         sharded_metadata\u001b[39m=\u001b[39;49msharded_metadata,\n\u001b[1;32m   3714\u001b[0m         _fast_init\u001b[39m=\u001b[39;49m_fast_init,\n\u001b[1;32m   3715\u001b[0m         low_cpu_mem_usage\u001b[39m=\u001b[39;49mlow_cpu_mem_usage,\n\u001b[1;32m   3716\u001b[0m         device_map\u001b[39m=\u001b[39;49mdevice_map,\n\u001b[1;32m   3717\u001b[0m         offload_folder\u001b[39m=\u001b[39;49moffload_folder,\n\u001b[1;32m   3718\u001b[0m         offload_state_dict\u001b[39m=\u001b[39;49moffload_state_dict,\n\u001b[1;32m   3719\u001b[0m         dtype\u001b[39m=\u001b[39;49mtorch_dtype,\n\u001b[1;32m   3720\u001b[0m         is_quantized\u001b[39m=\u001b[39;49m(\u001b[39mgetattr\u001b[39;49m(model, \u001b[39m\"\u001b[39;49m\u001b[39mquantization_method\u001b[39;49m\u001b[39m\"\u001b[39;49m, \u001b[39mNone\u001b[39;49;00m) \u001b[39m==\u001b[39;49m QuantizationMethod\u001b[39m.\u001b[39;49mBITS_AND_BYTES),\n\u001b[1;32m   3721\u001b[0m         keep_in_fp32_modules\u001b[39m=\u001b[39;49mkeep_in_fp32_modules,\n\u001b[1;32m   3722\u001b[0m     )\n\u001b[1;32m   3724\u001b[0m model\u001b[39m.\u001b[39mis_loaded_in_4bit \u001b[39m=\u001b[39m load_in_4bit\n\u001b[1;32m   3725\u001b[0m model\u001b[39m.\u001b[39mis_loaded_in_8bit \u001b[39m=\u001b[39m load_in_8bit\n",
      "File \u001b[0;32m~/miniconda3/envs/agreement-env/lib/python3.10/site-packages/transformers/modeling_utils.py:4116\u001b[0m, in \u001b[0;36mPreTrainedModel._load_pretrained_model\u001b[0;34m(cls, model, state_dict, loaded_keys, resolved_archive_file, pretrained_model_name_or_path, ignore_mismatched_sizes, sharded_metadata, _fast_init, low_cpu_mem_usage, device_map, offload_folder, offload_state_dict, dtype, is_quantized, keep_in_fp32_modules)\u001b[0m\n\u001b[1;32m   4112\u001b[0m                     set_module_quantized_tensor_to_device(\n\u001b[1;32m   4113\u001b[0m                         model_to_load, key, \u001b[39m\"\u001b[39m\u001b[39mcpu\u001b[39m\u001b[39m\"\u001b[39m, torch\u001b[39m.\u001b[39mempty(\u001b[39m*\u001b[39mparam\u001b[39m.\u001b[39msize(), dtype\u001b[39m=\u001b[39mdtype)\n\u001b[1;32m   4114\u001b[0m                     )\n\u001b[1;32m   4115\u001b[0m     \u001b[39melse\u001b[39;00m:\n\u001b[0;32m-> 4116\u001b[0m         new_error_msgs, offload_index, state_dict_index \u001b[39m=\u001b[39m _load_state_dict_into_meta_model(\n\u001b[1;32m   4117\u001b[0m             model_to_load,\n\u001b[1;32m   4118\u001b[0m             state_dict,\n\u001b[1;32m   4119\u001b[0m             loaded_keys,\n\u001b[1;32m   4120\u001b[0m             start_prefix,\n\u001b[1;32m   4121\u001b[0m             expected_keys,\n\u001b[1;32m   4122\u001b[0m             device_map\u001b[39m=\u001b[39;49mdevice_map,\n\u001b[1;32m   4123\u001b[0m             offload_folder\u001b[39m=\u001b[39;49moffload_folder,\n\u001b[1;32m   4124\u001b[0m             offload_index\u001b[39m=\u001b[39;49moffload_index,\n\u001b[1;32m   4125\u001b[0m             state_dict_folder\u001b[39m=\u001b[39;49mstate_dict_folder,\n\u001b[1;32m   4126\u001b[0m             state_dict_index\u001b[39m=\u001b[39;49mstate_dict_index,\n\u001b[1;32m   4127\u001b[0m             dtype\u001b[39m=\u001b[39;49mdtype,\n\u001b[1;32m   4128\u001b[0m             is_quantized\u001b[39m=\u001b[39;49mis_quantized,\n\u001b[1;32m   4129\u001b[0m             is_safetensors\u001b[39m=\u001b[39;49mis_safetensors,\n\u001b[1;32m   4130\u001b[0m             keep_in_fp32_modules\u001b[39m=\u001b[39;49mkeep_in_fp32_modules,\n\u001b[1;32m   4131\u001b[0m         )\n\u001b[1;32m   4132\u001b[0m         error_msgs \u001b[39m+\u001b[39m\u001b[39m=\u001b[39m new_error_msgs\n\u001b[1;32m   4133\u001b[0m \u001b[39melse\u001b[39;00m:\n",
      "File \u001b[0;32m~/miniconda3/envs/agreement-env/lib/python3.10/site-packages/transformers/modeling_utils.py:786\u001b[0m, in \u001b[0;36m_load_state_dict_into_meta_model\u001b[0;34m(model, state_dict, loaded_state_dict_keys, start_prefix, expected_keys, device_map, offload_folder, offload_index, state_dict_folder, state_dict_index, dtype, is_quantized, is_safetensors, keep_in_fp32_modules)\u001b[0m\n\u001b[1;32m    783\u001b[0m             fp16_statistics \u001b[39m=\u001b[39m \u001b[39mNone\u001b[39;00m\n\u001b[1;32m    785\u001b[0m         \u001b[39mif\u001b[39;00m \u001b[39m\"\u001b[39m\u001b[39mSCB\u001b[39m\u001b[39m\"\u001b[39m \u001b[39mnot\u001b[39;00m \u001b[39min\u001b[39;00m param_name:\n\u001b[0;32m--> 786\u001b[0m             set_module_quantized_tensor_to_device(\n\u001b[1;32m    787\u001b[0m                 model, param_name, param_device, value\u001b[39m=\u001b[39;49mparam, fp16_statistics\u001b[39m=\u001b[39;49mfp16_statistics\n\u001b[1;32m    788\u001b[0m             )\n\u001b[1;32m    790\u001b[0m \u001b[39mreturn\u001b[39;00m error_msgs, offload_index, state_dict_index\n",
      "File \u001b[0;32m~/miniconda3/envs/agreement-env/lib/python3.10/site-packages/transformers/integrations/bitsandbytes.py:96\u001b[0m, in \u001b[0;36mset_module_quantized_tensor_to_device\u001b[0;34m(module, tensor_name, device, value, fp16_statistics)\u001b[0m\n\u001b[1;32m     94\u001b[0m kwargs \u001b[39m=\u001b[39m old_value\u001b[39m.\u001b[39m\u001b[39m__dict__\u001b[39m\n\u001b[1;32m     95\u001b[0m \u001b[39mif\u001b[39;00m is_8bit:\n\u001b[0;32m---> 96\u001b[0m     new_value \u001b[39m=\u001b[39m bnb\u001b[39m.\u001b[39;49mnn\u001b[39m.\u001b[39;49mInt8Params(new_value, requires_grad\u001b[39m=\u001b[39;49m\u001b[39mFalse\u001b[39;49;00m, \u001b[39m*\u001b[39;49m\u001b[39m*\u001b[39;49mkwargs)\u001b[39m.\u001b[39;49mto(device)\n\u001b[1;32m     97\u001b[0m \u001b[39melif\u001b[39;00m is_4bit:\n\u001b[1;32m     98\u001b[0m     new_value \u001b[39m=\u001b[39m bnb\u001b[39m.\u001b[39mnn\u001b[39m.\u001b[39mParams4bit(new_value, requires_grad\u001b[39m=\u001b[39m\u001b[39mFalse\u001b[39;00m, \u001b[39m*\u001b[39m\u001b[39m*\u001b[39mkwargs)\u001b[39m.\u001b[39mto(device)\n",
      "File \u001b[0;32m~/miniconda3/envs/agreement-env/lib/python3.10/site-packages/bitsandbytes/nn/modules.py:344\u001b[0m, in \u001b[0;36mInt8Params.to\u001b[0;34m(self, *args, **kwargs)\u001b[0m\n\u001b[1;32m    335\u001b[0m device, dtype, non_blocking, convert_to_format \u001b[39m=\u001b[39m torch\u001b[39m.\u001b[39m_C\u001b[39m.\u001b[39m_nn\u001b[39m.\u001b[39m_parse_to(\n\u001b[1;32m    336\u001b[0m     \u001b[39m*\u001b[39margs, \u001b[39m*\u001b[39m\u001b[39m*\u001b[39mkwargs\n\u001b[1;32m    337\u001b[0m )\n\u001b[1;32m    339\u001b[0m \u001b[39mif\u001b[39;00m (\n\u001b[1;32m    340\u001b[0m     device \u001b[39mis\u001b[39;00m \u001b[39mnot\u001b[39;00m \u001b[39mNone\u001b[39;00m\n\u001b[1;32m    341\u001b[0m     \u001b[39mand\u001b[39;00m device\u001b[39m.\u001b[39mtype \u001b[39m==\u001b[39m \u001b[39m\"\u001b[39m\u001b[39mcuda\u001b[39m\u001b[39m\"\u001b[39m\n\u001b[1;32m    342\u001b[0m     \u001b[39mand\u001b[39;00m \u001b[39mself\u001b[39m\u001b[39m.\u001b[39mdata\u001b[39m.\u001b[39mdevice\u001b[39m.\u001b[39mtype \u001b[39m==\u001b[39m \u001b[39m\"\u001b[39m\u001b[39mcpu\u001b[39m\u001b[39m\"\u001b[39m\n\u001b[1;32m    343\u001b[0m ):\n\u001b[0;32m--> 344\u001b[0m     \u001b[39mreturn\u001b[39;00m \u001b[39mself\u001b[39;49m\u001b[39m.\u001b[39;49mcuda(device)\n\u001b[1;32m    345\u001b[0m \u001b[39melse\u001b[39;00m:\n\u001b[1;32m    346\u001b[0m     new_param \u001b[39m=\u001b[39m Int8Params(\n\u001b[1;32m    347\u001b[0m         \u001b[39msuper\u001b[39m()\u001b[39m.\u001b[39mto(\n\u001b[1;32m    348\u001b[0m             device\u001b[39m=\u001b[39mdevice, dtype\u001b[39m=\u001b[39mdtype, non_blocking\u001b[39m=\u001b[39mnon_blocking\n\u001b[0;32m   (...)\u001b[0m\n\u001b[1;32m    351\u001b[0m         has_fp16_weights\u001b[39m=\u001b[39m\u001b[39mself\u001b[39m\u001b[39m.\u001b[39mhas_fp16_weights,\n\u001b[1;32m    352\u001b[0m     )\n",
      "File \u001b[0;32m~/miniconda3/envs/agreement-env/lib/python3.10/site-packages/bitsandbytes/nn/modules.py:308\u001b[0m, in \u001b[0;36mInt8Params.cuda\u001b[0;34m(self, device)\u001b[0m\n\u001b[1;32m    304\u001b[0m \u001b[39melse\u001b[39;00m:\n\u001b[1;32m    305\u001b[0m     \u001b[39m# we store the 8-bit rows-major weight\u001b[39;00m\n\u001b[1;32m    306\u001b[0m     \u001b[39m# we convert this weight to the turning/ampere weight during the first inference pass\u001b[39;00m\n\u001b[1;32m    307\u001b[0m     B \u001b[39m=\u001b[39m \u001b[39mself\u001b[39m\u001b[39m.\u001b[39mdata\u001b[39m.\u001b[39mcontiguous()\u001b[39m.\u001b[39mhalf()\u001b[39m.\u001b[39mcuda(device)\n\u001b[0;32m--> 308\u001b[0m     CB, CBt, SCB, SCBt, coo_tensorB \u001b[39m=\u001b[39m bnb\u001b[39m.\u001b[39;49mfunctional\u001b[39m.\u001b[39;49mdouble_quant(B)\n\u001b[1;32m    309\u001b[0m     \u001b[39mdel\u001b[39;00m CBt\n\u001b[1;32m    310\u001b[0m     \u001b[39mdel\u001b[39;00m SCBt\n",
      "File \u001b[0;32m~/miniconda3/envs/agreement-env/lib/python3.10/site-packages/bitsandbytes/functional.py:2119\u001b[0m, in \u001b[0;36mdouble_quant\u001b[0;34m(A, col_stats, row_stats, out_col, out_row, threshold)\u001b[0m\n\u001b[1;32m   2114\u001b[0m     row_stats, col_stats, nnz_row_ptr \u001b[39m=\u001b[39m get_colrow_absmax(\n\u001b[1;32m   2115\u001b[0m         A, threshold\u001b[39m=\u001b[39mthreshold\n\u001b[1;32m   2116\u001b[0m     )\n\u001b[1;32m   2118\u001b[0m \u001b[39mif\u001b[39;00m out_col \u001b[39mis\u001b[39;00m \u001b[39mNone\u001b[39;00m:\n\u001b[0;32m-> 2119\u001b[0m     out_col \u001b[39m=\u001b[39m torch\u001b[39m.\u001b[39;49mzeros(A\u001b[39m.\u001b[39;49mshape, device\u001b[39m=\u001b[39;49mdevice, dtype\u001b[39m=\u001b[39;49mtorch\u001b[39m.\u001b[39;49mint8)\n\u001b[1;32m   2120\u001b[0m \u001b[39mif\u001b[39;00m out_row \u001b[39mis\u001b[39;00m \u001b[39mNone\u001b[39;00m:\n\u001b[1;32m   2121\u001b[0m     out_row \u001b[39m=\u001b[39m torch\u001b[39m.\u001b[39mzeros(A\u001b[39m.\u001b[39mshape, device\u001b[39m=\u001b[39mdevice, dtype\u001b[39m=\u001b[39mtorch\u001b[39m.\u001b[39mint8)\n",
      "\u001b[0;31mOutOfMemoryError\u001b[0m: CUDA out of memory. Tried to allocate 100.00 MiB (GPU 0; 19.70 GiB total capacity; 6.66 GiB already allocated; 100.56 MiB free; 6.81 GiB reserved in total by PyTorch) If reserved memory is >> allocated memory try setting max_split_size_mb to avoid fragmentation.  See documentation for Memory Management and PYTORCH_CUDA_ALLOC_CONF"
     ]
    }
   ],
   "source": [
    "name = 'ai-forever/ruGPT-3.5-13B'\n",
    "# name = 'ai-forever/mGPT-13B'\n",
    "#name = 'ai-forever/rugpt3small_based_on_gpt2'\n",
    "from utils import load_model_tokenizer_config\n",
    "model, tokenizer, _ = load_model_tokenizer_config(name)"
   ]
  },
  {
   "cell_type": "code",
   "execution_count": null,
   "id": "75d6ac75",
   "metadata": {},
   "outputs": [],
   "source": [
    "import pandas as pd\n",
    "\n",
    "df = pd.read_csv('stimuli.csv')"
   ]
  },
  {
   "cell_type": "code",
   "execution_count": 12,
   "id": "9220937c-bccc-4b5a-b83f-e2b3d7acf2ce",
   "metadata": {},
   "outputs": [],
   "source": [
    "# df = df[['Prot', 'Sent', 'Group', 'N1', 'N2', 'Pred', 'Code', 'Sentence']]\n",
    "df = df.dropna(axis=0)"
   ]
  },
  {
   "cell_type": "code",
   "execution_count": 13,
   "id": "e516fcf5-1061-466c-9812-7ffb83035156",
   "metadata": {},
   "outputs": [],
   "source": [
    "import datasets\n",
    "import numpy as np\n",
    "import torch\n",
    "from torch.nn import CrossEntropyLoss\n",
    "from transformers import AutoModelForCausalLM, AutoTokenizer\n",
    "\n",
    "import evaluate\n",
    "from evaluate import logging"
   ]
  },
  {
   "cell_type": "markdown",
   "id": "dc839c9a-e5aa-446b-ba2c-5aad9dccd8c9",
   "metadata": {},
   "source": [
    "Split the text in two parts:"
   ]
  },
  {
   "cell_type": "code",
   "execution_count": 14,
   "id": "78e349b5-edb8-44c0-b927-d30ca83962eb",
   "metadata": {},
   "outputs": [],
   "source": [
    "df['left'] = df['Sentence'].apply(lambda a: ' '.join(a.split(' ')[:3]))\n",
    "df['right'] = df['Sentence'].apply(lambda a: ' '.join(a.split(' ')[3:]))"
   ]
  },
  {
   "cell_type": "code",
   "execution_count": 15,
   "id": "7e9b4dee-f754-4ce5-87ee-b5a192a6e518",
   "metadata": {},
   "outputs": [],
   "source": [
    "from tqdm.auto import tqdm"
   ]
  },
  {
   "cell_type": "markdown",
   "id": "076902c0-fae7-4f37-ae3a-c45774fe54b7",
   "metadata": {},
   "source": [
    "## Evaluation"
   ]
  },
  {
   "cell_type": "code",
   "execution_count": 16,
   "id": "214266cc-b26a-4025-bd4b-62514abef615",
   "metadata": {},
   "outputs": [],
   "source": [
    "def get_log_proba(text):\n",
    "    all_tokens = tokenizer(f', {text},', return_tensors='pt').input_ids.to('cuda')\n",
    "    prev_tokens = all_tokens[:, :-1]\n",
    "    next_tokens = all_tokens[:, 1:]\n",
    "    with torch.inference_mode():\n",
    "        model_out = model(prev_tokens)\n",
    "        tokens_log_proba = torch.gather(torch.log_softmax(model_out.logits, -1), 2, next_tokens.unsqueeze(-1))\n",
    "        phrase_log_proba = tokens_log_proba.sum().item()\n",
    "        \n",
    "        #loss = model_out.loss\n",
    "        #perplexity = torch.exp(loss)\n",
    "        #phrase_log_proba = perplexity.item()\n",
    "    return phrase_log_proba"
   ]
  },
  {
   "cell_type": "code",
   "execution_count": 17,
   "id": "45e97b50-3c5a-4823-9407-c6b0058f2a3e",
   "metadata": {},
   "outputs": [
    {
     "data": {
      "application/vnd.jupyter.widget-view+json": {
       "model_id": "fb72213188824c4bb8af0dcb88c923af",
       "version_major": 2,
       "version_minor": 0
      },
      "text/plain": [
       "  0%|          | 0/512 [00:00<?, ?it/s]"
      ]
     },
     "metadata": {},
     "output_type": "display_data"
    },
    {
     "data": {
      "application/vnd.jupyter.widget-view+json": {
       "model_id": "33f1eff4845b42048be3fbb0fbd20cc7",
       "version_major": 2,
       "version_minor": 0
      },
      "text/plain": [
       "  0%|          | 0/512 [00:00<?, ?it/s]"
      ]
     },
     "metadata": {},
     "output_type": "display_data"
    },
    {
     "data": {
      "application/vnd.jupyter.widget-view+json": {
       "model_id": "953ed993e7814e5698ac12282aacf980",
       "version_major": 2,
       "version_minor": 0
      },
      "text/plain": [
       "  0%|          | 0/512 [00:00<?, ?it/s]"
      ]
     },
     "metadata": {},
     "output_type": "display_data"
    }
   ],
   "source": [
    "df['p_w1'] = [get_log_proba(w) for w in tqdm(df.left)]\n",
    "df['p_w2'] = [get_log_proba(w) for w in tqdm(df.right)]\n",
    "df['p_phrase'] = [get_log_proba(w) for w in tqdm(df['Sentence'])]"
   ]
  },
  {
   "cell_type": "markdown",
   "id": "caf6d78f-dd36-41fd-a87e-5fabdb7bd538",
   "metadata": {},
   "source": [
    "Считаем усредненную оценку, а именно p(весь текст) - p(левая часть текста) - p(правая часть текста)"
   ]
  },
  {
   "cell_type": "code",
   "execution_count": 18,
   "id": "1e9bb73e-bdbe-4f48-ad64-ed8edc409060",
   "metadata": {},
   "outputs": [],
   "source": [
    "df['compatibility_score'] = df['p_phrase'] - df['p_w2'] - df['p_w1']"
   ]
  },
  {
   "cell_type": "code",
   "execution_count": 20,
   "id": "e381163e-ab33-4b70-bc7b-9ccfbb0e5edc",
   "metadata": {},
   "outputs": [
    {
     "data": {
      "text/html": [
       "<div>\n",
       "<style scoped>\n",
       "    .dataframe tbody tr th:only-of-type {\n",
       "        vertical-align: middle;\n",
       "    }\n",
       "\n",
       "    .dataframe tbody tr th {\n",
       "        vertical-align: top;\n",
       "    }\n",
       "\n",
       "    .dataframe thead th {\n",
       "        text-align: right;\n",
       "    }\n",
       "</style>\n",
       "<table border=\"1\" class=\"dataframe\">\n",
       "  <thead>\n",
       "    <tr style=\"text-align: right;\">\n",
       "      <th></th>\n",
       "      <th>Prot</th>\n",
       "      <th>Sent</th>\n",
       "      <th>Group</th>\n",
       "      <th>N1</th>\n",
       "      <th>N2</th>\n",
       "      <th>Pred</th>\n",
       "      <th>Code</th>\n",
       "      <th>Sentence</th>\n",
       "      <th>left</th>\n",
       "      <th>right</th>\n",
       "      <th>p_w1</th>\n",
       "      <th>p_w2</th>\n",
       "      <th>p_phrase</th>\n",
       "      <th>compatibility_score</th>\n",
       "    </tr>\n",
       "  </thead>\n",
       "  <tbody>\n",
       "    <tr>\n",
       "      <th>0</th>\n",
       "      <td>1.0</td>\n",
       "      <td>1.0</td>\n",
       "      <td>1.0</td>\n",
       "      <td>S</td>\n",
       "      <td>S</td>\n",
       "      <td>S</td>\n",
       "      <td>S_S-S</td>\n",
       "      <td>Абонемент на концерт был дорогим из-за участия...</td>\n",
       "      <td>Абонемент на концерт</td>\n",
       "      <td>был дорогим из-за участия популярных артистов.</td>\n",
       "      <td>-28.359375</td>\n",
       "      <td>-56.28125</td>\n",
       "      <td>-74.0000</td>\n",
       "      <td>10.640625</td>\n",
       "    </tr>\n",
       "    <tr>\n",
       "      <th>1</th>\n",
       "      <td>2.0</td>\n",
       "      <td>1.0</td>\n",
       "      <td>1.0</td>\n",
       "      <td>S</td>\n",
       "      <td>S</td>\n",
       "      <td>P</td>\n",
       "      <td>P_S-S</td>\n",
       "      <td>Абонемент на концерт были дорогими из-за участ...</td>\n",
       "      <td>Абонемент на концерт</td>\n",
       "      <td>были дорогими из-за участия популярных артистов.</td>\n",
       "      <td>-28.359375</td>\n",
       "      <td>-55.06250</td>\n",
       "      <td>-79.3750</td>\n",
       "      <td>4.046875</td>\n",
       "    </tr>\n",
       "    <tr>\n",
       "      <th>2</th>\n",
       "      <td>3.0</td>\n",
       "      <td>1.0</td>\n",
       "      <td>1.0</td>\n",
       "      <td>S</td>\n",
       "      <td>P</td>\n",
       "      <td>S</td>\n",
       "      <td>S_S-P</td>\n",
       "      <td>Абонемент на концерты был дорогим из-за участи...</td>\n",
       "      <td>Абонемент на концерты</td>\n",
       "      <td>был дорогим из-за участия популярных артистов.</td>\n",
       "      <td>-27.984375</td>\n",
       "      <td>-56.28125</td>\n",
       "      <td>-74.5625</td>\n",
       "      <td>9.703125</td>\n",
       "    </tr>\n",
       "    <tr>\n",
       "      <th>3</th>\n",
       "      <td>4.0</td>\n",
       "      <td>1.0</td>\n",
       "      <td>1.0</td>\n",
       "      <td>S</td>\n",
       "      <td>P</td>\n",
       "      <td>P</td>\n",
       "      <td>P_S-P</td>\n",
       "      <td>Абонемент на концерты были дорогими из-за учас...</td>\n",
       "      <td>Абонемент на концерты</td>\n",
       "      <td>были дорогими из-за участия популярных артистов.</td>\n",
       "      <td>-27.984375</td>\n",
       "      <td>-55.06250</td>\n",
       "      <td>-75.9375</td>\n",
       "      <td>7.109375</td>\n",
       "    </tr>\n",
       "    <tr>\n",
       "      <th>4</th>\n",
       "      <td>5.0</td>\n",
       "      <td>1.0</td>\n",
       "      <td>1.0</td>\n",
       "      <td>P</td>\n",
       "      <td>S</td>\n",
       "      <td>S</td>\n",
       "      <td>S_P-S</td>\n",
       "      <td>Абонементы на концерт был дорогим из-за участи...</td>\n",
       "      <td>Абонементы на концерт</td>\n",
       "      <td>был дорогим из-за участия популярных артистов.</td>\n",
       "      <td>-28.640625</td>\n",
       "      <td>-56.28125</td>\n",
       "      <td>-75.6875</td>\n",
       "      <td>9.234375</td>\n",
       "    </tr>\n",
       "  </tbody>\n",
       "</table>\n",
       "</div>"
      ],
      "text/plain": [
       "   Prot  Sent  Group N1 N2 Pred   Code  \\\n",
       "0   1.0   1.0    1.0  S  S    S  S_S-S   \n",
       "1   2.0   1.0    1.0  S  S    P  P_S-S   \n",
       "2   3.0   1.0    1.0  S  P    S  S_S-P   \n",
       "3   4.0   1.0    1.0  S  P    P  P_S-P   \n",
       "4   5.0   1.0    1.0  P  S    S  S_P-S   \n",
       "\n",
       "                                            Sentence                   left  \\\n",
       "0  Абонемент на концерт был дорогим из-за участия...   Абонемент на концерт   \n",
       "1  Абонемент на концерт были дорогими из-за участ...   Абонемент на концерт   \n",
       "2  Абонемент на концерты был дорогим из-за участи...  Абонемент на концерты   \n",
       "3  Абонемент на концерты были дорогими из-за учас...  Абонемент на концерты   \n",
       "4  Абонементы на концерт был дорогим из-за участи...  Абонементы на концерт   \n",
       "\n",
       "                                              right       p_w1      p_w2  \\\n",
       "0    был дорогим из-за участия популярных артистов. -28.359375 -56.28125   \n",
       "1  были дорогими из-за участия популярных артистов. -28.359375 -55.06250   \n",
       "2    был дорогим из-за участия популярных артистов. -27.984375 -56.28125   \n",
       "3  были дорогими из-за участия популярных артистов. -27.984375 -55.06250   \n",
       "4    был дорогим из-за участия популярных артистов. -28.640625 -56.28125   \n",
       "\n",
       "   p_phrase  compatibility_score  \n",
       "0  -74.0000            10.640625  \n",
       "1  -79.3750             4.046875  \n",
       "2  -74.5625             9.703125  \n",
       "3  -75.9375             7.109375  \n",
       "4  -75.6875             9.234375  "
      ]
     },
     "execution_count": 20,
     "metadata": {},
     "output_type": "execute_result"
    }
   ],
   "source": [
    "df.head()"
   ]
  },
  {
   "attachments": {
    "e3195de7-b6dd-4bd7-87f6-e6a50e1f1dad.png": {
     "image/png": "[encoded data removed]"
    }
   },
   "cell_type": "markdown",
   "id": "1a5984fa-306f-41af-83eb-0990995fd889",
   "metadata": {},
   "source": [
    "![image.png](attachment:e3195de7-b6dd-4bd7-87f6-e6a50e1f1dad.png)"
   ]
  },
  {
   "cell_type": "markdown",
   "id": "665e9757-8b83-4587-811b-18911df82ca5",
   "metadata": {},
   "source": [
    "оценки между \"пример с лоувшкой\" и \"явно неверный\""
   ]
  },
  {
   "cell_type": "code",
   "execution_count": 21,
   "id": "a5b77f22-b47a-4dd4-afdd-0ac0fd0fd37a",
   "metadata": {},
   "outputs": [],
   "source": [
    "dff = df[df['Code'].isin(['S_P-S', 'S_P-P'])]\\\n",
    "    [['left', 'right', 'Sentence', 'Code','compatibility_score']].groupby(['right']).agg(list)"
   ]
  },
  {
   "cell_type": "code",
   "execution_count": 22,
   "id": "99ad7863-2745-455a-9faa-b01f4e5585cc",
   "metadata": {},
   "outputs": [],
   "source": [
    "dff = df[df['Code'].isin(['S_S-S', 'P_S-S'])]\\\n",
    "                  [['left', 'Sentence', 'Code','compatibility_score']].groupby(['left']).agg(list)"
   ]
  },
  {
   "cell_type": "code",
   "execution_count": 23,
   "id": "a64b4872-977a-4157-9c26-a1ab4a60f72f",
   "metadata": {},
   "outputs": [],
   "source": [
    "dff['new_score'] = dff['compatibility_score'].agg(lambda a: max(a) / (min(a)+0.001) )"
   ]
  },
  {
   "cell_type": "code",
   "execution_count": 28,
   "id": "08731953-60c2-473d-8a2e-994761fc0964",
   "metadata": {},
   "outputs": [
    {
     "data": {
      "text/html": [
       "<style type=\"text/css\">\n",
       "#T_3abc0_row0_col3 {\n",
       "  background-color: #8000ff;\n",
       "  color: #f1f1f1;\n",
       "}\n",
       "#T_3abc0_row1_col3 {\n",
       "  background-color: #8efeac;\n",
       "  color: #000000;\n",
       "}\n",
       "#T_3abc0_row2_col3 {\n",
       "  background-color: #cee184;\n",
       "  color: #000000;\n",
       "}\n",
       "#T_3abc0_row3_col3 {\n",
       "  background-color: #ff8c49;\n",
       "  color: #f1f1f1;\n",
       "}\n",
       "#T_3abc0_row4_col3 {\n",
       "  background-color: #ff0000;\n",
       "  color: #f1f1f1;\n",
       "}\n",
       "</style>\n",
       "<table id=\"T_3abc0\">\n",
       "  <thead>\n",
       "    <tr>\n",
       "      <th class=\"blank level0\" >&nbsp;</th>\n",
       "      <th id=\"T_3abc0_level0_col0\" class=\"col_heading level0 col0\" >Sentence</th>\n",
       "      <th id=\"T_3abc0_level0_col1\" class=\"col_heading level0 col1\" >Code</th>\n",
       "      <th id=\"T_3abc0_level0_col2\" class=\"col_heading level0 col2\" >compatibility_score</th>\n",
       "      <th id=\"T_3abc0_level0_col3\" class=\"col_heading level0 col3\" >new_score</th>\n",
       "    </tr>\n",
       "    <tr>\n",
       "      <th class=\"index_name level0\" >left</th>\n",
       "      <th class=\"blank col0\" >&nbsp;</th>\n",
       "      <th class=\"blank col1\" >&nbsp;</th>\n",
       "      <th class=\"blank col2\" >&nbsp;</th>\n",
       "      <th class=\"blank col3\" >&nbsp;</th>\n",
       "    </tr>\n",
       "  </thead>\n",
       "  <tbody>\n",
       "    <tr>\n",
       "      <th id=\"T_3abc0_level0_row0\" class=\"row_heading level0 row0\" >Возражение на упрек</th>\n",
       "      <td id=\"T_3abc0_row0_col0\" class=\"data row0 col0\" >['Возражение на упрек было принято без излишне бурных эмоций.', 'Возражение на упрек были приняты без излишне бурных эмоций.']</td>\n",
       "      <td id=\"T_3abc0_row0_col1\" class=\"data row0 col1\" >['S_S-S', 'P_S-S']</td>\n",
       "      <td id=\"T_3abc0_row0_col2\" class=\"data row0 col2\" >[3.078125, -0.078125]</td>\n",
       "      <td id=\"T_3abc0_row0_col3\" class=\"data row0 col3\" >-39.910859</td>\n",
       "    </tr>\n",
       "    <tr>\n",
       "      <th id=\"T_3abc0_level0_row1\" class=\"row_heading level0 row1\" >Прыжок через костер</th>\n",
       "      <td id=\"T_3abc0_row1_col0\" class=\"data row1 col0\" >['Прыжок через костер был рискованным для обладателей коротких ног.', 'Прыжок через костер были рискованными для обладателей коротких ног.']</td>\n",
       "      <td id=\"T_3abc0_row1_col1\" class=\"data row1 col1\" >['S_S-S', 'P_S-S']</td>\n",
       "      <td id=\"T_3abc0_row1_col2\" class=\"data row1 col2\" >[5.359375, -0.265625]</td>\n",
       "      <td id=\"T_3abc0_row1_col3\" class=\"data row1 col3\" >-20.252716</td>\n",
       "    </tr>\n",
       "    <tr>\n",
       "      <th id=\"T_3abc0_level0_row2\" class=\"row_heading level0 row2\" >Ключ от шкатулки</th>\n",
       "      <td id=\"T_3abc0_row2_col0\" class=\"data row2 col0\" >['Ключ от шкатулки был ржавым из-за высокой влажности воздуха.', 'Ключ от шкатулки были ржавыми из-за высокой влажности воздуха.']</td>\n",
       "      <td id=\"T_3abc0_row2_col1\" class=\"data row2 col1\" >['S_S-S', 'P_S-S']</td>\n",
       "      <td id=\"T_3abc0_row2_col2\" class=\"data row2 col2\" >[5.375, -0.34375]</td>\n",
       "      <td id=\"T_3abc0_row2_col3\" class=\"data row2 col3\" >-15.681984</td>\n",
       "    </tr>\n",
       "    <tr>\n",
       "      <th id=\"T_3abc0_level0_row3\" class=\"row_heading level0 row3\" >Ссылка на сайт</th>\n",
       "      <td id=\"T_3abc0_row3_col0\" class=\"data row3 col0\" >['Ссылка на сайт была дана в списке источников статьи.', 'Ссылка на сайт были даны в списке источников статьи.']</td>\n",
       "      <td id=\"T_3abc0_row3_col1\" class=\"data row3 col1\" >['S_S-S', 'P_S-S']</td>\n",
       "      <td id=\"T_3abc0_row3_col2\" class=\"data row3 col2\" >[7.484375, -0.765625]</td>\n",
       "      <td id=\"T_3abc0_row3_col3\" class=\"data row3 col3\" >-9.788295</td>\n",
       "    </tr>\n",
       "    <tr>\n",
       "      <th id=\"T_3abc0_level0_row4\" class=\"row_heading level0 row4\" >Путешествие на курорт</th>\n",
       "      <td id=\"T_3abc0_row4_col0\" class=\"data row4 col0\" >['Путешествие на курорт было приятным для членов большой семьи.', 'Путешествие на курорт были приятными для членов большой семьи.']</td>\n",
       "      <td id=\"T_3abc0_row4_col1\" class=\"data row4 col1\" >['S_S-S', 'P_S-S']</td>\n",
       "      <td id=\"T_3abc0_row4_col2\" class=\"data row4 col2\" >[6.984375, -2.453125]</td>\n",
       "      <td id=\"T_3abc0_row4_col3\" class=\"data row4 col3\" >-2.848295</td>\n",
       "    </tr>\n",
       "  </tbody>\n",
       "</table>\n"
      ],
      "text/plain": [
       "<pandas.io.formats.style.Styler at 0x7f6f3c854880>"
      ]
     },
     "execution_count": 28,
     "metadata": {},
     "output_type": "execute_result"
    }
   ],
   "source": [
    "dff.sort_values('new_score', \n",
    "                ascending=True).head().style.background_gradient(cmap='rainbow')"
   ]
  },
  {
   "cell_type": "markdown",
   "id": "e6287bb2-c254-4725-aae3-e549c3505f8e",
   "metadata": {},
   "source": [
    "## Проверка с помощью ANOVA"
   ]
  },
  {
   "cell_type": "code",
   "execution_count": 29,
   "id": "de182c67-f85b-4895-a292-3bbdd70f2030",
   "metadata": {},
   "outputs": [],
   "source": [
    "from scipy.stats import f_oneway"
   ]
  },
  {
   "cell_type": "code",
   "execution_count": 30,
   "id": "df970388-26a0-4a43-a6b8-cee9531b3226",
   "metadata": {},
   "outputs": [
    {
     "data": {
      "text/plain": [
       "F_onewayResult(statistic=0.8671594801026518, pvalue=0.4586715869255841)"
      ]
     },
     "execution_count": 30,
     "metadata": {},
     "output_type": "execute_result"
    }
   ],
   "source": [
    "#все хорошие\n",
    "f_oneway(df[df['Code'] == 'S_S-S']['compatibility_score'], \n",
    "         df[df['Code'] == 'S_S-P']['compatibility_score'],\n",
    "         df[df['Code'] == 'P_P-P']['compatibility_score'], \n",
    "         df[df['Code'] == 'P_P-S']['compatibility_score'],\n",
    "        )"
   ]
  },
  {
   "cell_type": "code",
   "execution_count": 31,
   "id": "1152990b-4ecd-4c54-b046-05ac9265cc76",
   "metadata": {},
   "outputs": [
    {
     "data": {
      "text/plain": [
       "F_onewayResult(statistic=3.2092122998070836, pvalue=0.07562516085033398)"
      ]
     },
     "execution_count": 31,
     "metadata": {},
     "output_type": "execute_result"
    }
   ],
   "source": [
    "#все плохие\n",
    "f_oneway(df[df['Code'] == 'P_S-S']['compatibility_score'], \n",
    "         df[df['Code'] == 'S_P-P']['compatibility_score'],\n",
    "        )"
   ]
  },
  {
   "cell_type": "code",
   "execution_count": 32,
   "id": "6f2d4c69-1636-4765-9797-a3ed69663668",
   "metadata": {},
   "outputs": [
    {
     "data": {
      "text/plain": [
       "F_onewayResult(statistic=0.9884457239749852, pvalue=0.32202801543611437)"
      ]
     },
     "execution_count": 32,
     "metadata": {},
     "output_type": "execute_result"
    }
   ],
   "source": [
    "#все специальные\n",
    "f_oneway(df[df['Code'] == 'P_S-P']['compatibility_score'], \n",
    "         df[df['Code'] == 'S_P-S']['compatibility_score'],\n",
    "        )"
   ]
  },
  {
   "cell_type": "code",
   "execution_count": 33,
   "id": "64f70b01-0141-4799-961b-c8e2d825e6d1",
   "metadata": {},
   "outputs": [
    {
     "data": {
      "text/plain": [
       "F_onewayResult(statistic=179.41211905729583, pvalue=8.265042853760483e-34)"
      ]
     },
     "execution_count": 33,
     "metadata": {},
     "output_type": "execute_result"
    }
   ],
   "source": [
    "# хорошие -- плохие\n",
    "f_oneway(df[df['Code'].isin(['S_S-S','S_S-P','P_P-P','P_P-S'])]['compatibility_score'], \n",
    "         df[df['Code'].isin(['P_S-S','S_P-P']) ]['compatibility_score'],\n",
    "        )"
   ]
  },
  {
   "cell_type": "code",
   "execution_count": 34,
   "id": "8be596f4-d01c-4e99-a8a3-5939e006b3e8",
   "metadata": {},
   "outputs": [
    {
     "data": {
      "text/plain": [
       "F_onewayResult(statistic=118.46693023154116, pvalue=3.2609432297153905e-24)"
      ]
     },
     "execution_count": 34,
     "metadata": {},
     "output_type": "execute_result"
    }
   ],
   "source": [
    "# хорошие -- спец\n",
    "f_oneway(df[df['Code'].isin(['S_S-S','S_S-P','P_P-P','P_P-S'])]['compatibility_score'], \n",
    "         df[df['Code'].isin(['P_S-P', 'S_P-S']) ]['compatibility_score'],\n",
    "        )"
   ]
  },
  {
   "cell_type": "code",
   "execution_count": 35,
   "id": "caada842-2093-4e49-9d4a-5ee94b091ea0",
   "metadata": {},
   "outputs": [
    {
     "data": {
      "text/plain": [
       "F_onewayResult(statistic=4.941619429278164, pvalue=0.027098024419834367)"
      ]
     },
     "execution_count": 35,
     "metadata": {},
     "output_type": "execute_result"
    }
   ],
   "source": [
    "# спец -- плохие\n",
    "f_oneway(df[df['Code'].isin(['P_S-S','S_P-P'])]['compatibility_score'], \n",
    "         df[df['Code'].isin(['P_S-P', 'S_P-S']) ]['compatibility_score'],\n",
    "        )"
   ]
  },
  {
   "cell_type": "code",
   "execution_count": 36,
   "id": "9ff16f65-248f-4d24-b42d-74c7dc99773e",
   "metadata": {},
   "outputs": [
    {
     "data": {
      "text/html": [
       "<div>\n",
       "<style scoped>\n",
       "    .dataframe tbody tr th:only-of-type {\n",
       "        vertical-align: middle;\n",
       "    }\n",
       "\n",
       "    .dataframe tbody tr th {\n",
       "        vertical-align: top;\n",
       "    }\n",
       "\n",
       "    .dataframe thead tr th {\n",
       "        text-align: left;\n",
       "    }\n",
       "\n",
       "    .dataframe thead tr:last-of-type th {\n",
       "        text-align: right;\n",
       "    }\n",
       "</style>\n",
       "<table border=\"1\" class=\"dataframe\">\n",
       "  <thead>\n",
       "    <tr>\n",
       "      <th></th>\n",
       "      <th colspan=\"2\" halign=\"left\">compatibility_score</th>\n",
       "    </tr>\n",
       "    <tr>\n",
       "      <th></th>\n",
       "      <th>mean</th>\n",
       "      <th>std</th>\n",
       "    </tr>\n",
       "    <tr>\n",
       "      <th>Code</th>\n",
       "      <th></th>\n",
       "      <th></th>\n",
       "    </tr>\n",
       "  </thead>\n",
       "  <tbody>\n",
       "    <tr>\n",
       "      <th>P_P-P</th>\n",
       "      <td>8.355225</td>\n",
       "      <td>3.462925</td>\n",
       "    </tr>\n",
       "    <tr>\n",
       "      <th>P_P-S</th>\n",
       "      <td>9.080078</td>\n",
       "      <td>3.737577</td>\n",
       "    </tr>\n",
       "    <tr>\n",
       "      <th>P_S-P</th>\n",
       "      <td>5.118652</td>\n",
       "      <td>3.558621</td>\n",
       "    </tr>\n",
       "    <tr>\n",
       "      <th>P_S-S</th>\n",
       "      <td>4.395264</td>\n",
       "      <td>3.516317</td>\n",
       "    </tr>\n",
       "    <tr>\n",
       "      <th>S_P-P</th>\n",
       "      <td>3.299072</td>\n",
       "      <td>3.405765</td>\n",
       "    </tr>\n",
       "    <tr>\n",
       "      <th>S_P-S</th>\n",
       "      <td>4.509277</td>\n",
       "      <td>3.373373</td>\n",
       "    </tr>\n",
       "    <tr>\n",
       "      <th>S_S-P</th>\n",
       "      <td>9.091797</td>\n",
       "      <td>3.542276</td>\n",
       "    </tr>\n",
       "    <tr>\n",
       "      <th>S_S-S</th>\n",
       "      <td>9.295166</td>\n",
       "      <td>3.414400</td>\n",
       "    </tr>\n",
       "  </tbody>\n",
       "</table>\n",
       "</div>"
      ],
      "text/plain": [
       "      compatibility_score          \n",
       "                     mean       std\n",
       "Code                               \n",
       "P_P-P            8.355225  3.462925\n",
       "P_P-S            9.080078  3.737577\n",
       "P_S-P            5.118652  3.558621\n",
       "P_S-S            4.395264  3.516317\n",
       "S_P-P            3.299072  3.405765\n",
       "S_P-S            4.509277  3.373373\n",
       "S_S-P            9.091797  3.542276\n",
       "S_S-S            9.295166  3.414400"
      ]
     },
     "execution_count": 36,
     "metadata": {},
     "output_type": "execute_result"
    }
   ],
   "source": [
    "df[['Code','compatibility_score']].groupby('Code')\\\n",
    "            .agg(['mean','std'])"
   ]
  },
  {
   "cell_type": "code",
   "execution_count": 32,
   "id": "259ba99a-e9d7-4770-a171-b8c836edd67a",
   "metadata": {},
   "outputs": [],
   "source": [
    "df.to_csv(r'./stimuli_2018_test2_alt_withpred.csv', encoding='utf8')"
   ]
  },
  {
   "cell_type": "markdown",
   "id": "680189f7-d69d-464a-b6ff-56a7e9ee162f",
   "metadata": {},
   "source": [
    "## Простая перплексия"
   ]
  },
  {
   "cell_type": "code",
   "execution_count": 37,
   "id": "1a67b9d6-b120-402a-9271-5ad04edab6c4",
   "metadata": {},
   "outputs": [],
   "source": [
    "predictions = df['Sentence'].to_list()"
   ]
  },
  {
   "cell_type": "code",
   "execution_count": 38,
   "id": "2504d5f2-1e23-4c40-8bff-9505d1f65d6e",
   "metadata": {},
   "outputs": [],
   "source": [
    "tokenizer.pad_token = tokenizer.eos_token"
   ]
  },
  {
   "cell_type": "code",
   "execution_count": 39,
   "id": "9711b066-3434-4305-8620-0c8c46886d86",
   "metadata": {},
   "outputs": [
    {
     "data": {
      "application/vnd.jupyter.widget-view+json": {
       "model_id": "025380df98e7468cb7d69988a249bff3",
       "version_major": 2,
       "version_minor": 0
      },
      "text/plain": [
       "  0%|          | 0/43 [00:00<?, ?it/s]"
      ]
     },
     "metadata": {},
     "output_type": "display_data"
    }
   ],
   "source": [
    "encodings = tokenizer(\n",
    "    predictions,\n",
    "    add_special_tokens=False,\n",
    "    padding=True,\n",
    "    truncation=True,\n",
    "    max_length=32,\n",
    "    return_tensors=\"pt\",\n",
    "    return_attention_mask=True,\n",
    "    ).to('cuda')\n",
    "\n",
    "encoded_texts = encodings[\"input_ids\"]\n",
    "attn_masks = encodings[\"attention_mask\"]\n",
    "\n",
    "batch_size = 12\n",
    "\n",
    "ppls = []\n",
    "loss_fct = CrossEntropyLoss(reduction=\"none\")\n",
    "\n",
    "for start_index in logging.tqdm(range(0, len(encoded_texts), batch_size)):\n",
    "    end_index = min(start_index + batch_size, len(encoded_texts))\n",
    "    encoded_batch = encoded_texts[start_index:end_index]\n",
    "    attn_mask = attn_masks[start_index:end_index]\n",
    "\n",
    "    if False:\n",
    "        bos_tokens_tensor = torch.tensor([[tokenizer.bos_token_id]] * encoded_batch.size(dim=0)).to(device)\n",
    "        encoded_batch = torch.cat([bos_tokens_tensor, encoded_batch], dim=1)\n",
    "        attn_mask = torch.cat(\n",
    "            [torch.ones(bos_tokens_tensor.size(), dtype=torch.int64).to(device), attn_mask], dim=1\n",
    "        )\n",
    "\n",
    "    labels = encoded_batch\n",
    "\n",
    "    with torch.no_grad():\n",
    "        out_logits = model(encoded_batch, attention_mask=attn_mask).logits\n",
    "\n",
    "    shift_logits = out_logits[..., :-1, :].contiguous()\n",
    "    shift_labels = labels[..., 1:].contiguous()\n",
    "    shift_attention_mask_batch = attn_mask[..., 1:].contiguous()\n",
    "\n",
    "    perplexity_batch = torch.exp(\n",
    "        (loss_fct(shift_logits.transpose(1, 2), shift_labels) * shift_attention_mask_batch).sum(1)\n",
    "        / shift_attention_mask_batch.sum(1)\n",
    "    )\n",
    "\n",
    "    ppls += perplexity_batch.tolist()"
   ]
  },
  {
   "cell_type": "code",
   "execution_count": 40,
   "id": "79fa3731-a756-4094-93ee-b46569da34d5",
   "metadata": {},
   "outputs": [],
   "source": [
    "df['GPT3'] = ppls"
   ]
  },
  {
   "cell_type": "code",
   "execution_count": 41,
   "id": "3fabc0f2-551c-4439-874a-50440dfa151b",
   "metadata": {},
   "outputs": [
    {
     "data": {
      "text/html": [
       "<div>\n",
       "<style scoped>\n",
       "    .dataframe tbody tr th:only-of-type {\n",
       "        vertical-align: middle;\n",
       "    }\n",
       "\n",
       "    .dataframe tbody tr th {\n",
       "        vertical-align: top;\n",
       "    }\n",
       "\n",
       "    .dataframe thead th {\n",
       "        text-align: right;\n",
       "    }\n",
       "</style>\n",
       "<table border=\"1\" class=\"dataframe\">\n",
       "  <thead>\n",
       "    <tr style=\"text-align: right;\">\n",
       "      <th></th>\n",
       "      <th>Prot</th>\n",
       "      <th>Sent</th>\n",
       "      <th>Group</th>\n",
       "      <th>N1</th>\n",
       "      <th>N2</th>\n",
       "      <th>Pred</th>\n",
       "      <th>Code</th>\n",
       "      <th>Sentence</th>\n",
       "      <th>left</th>\n",
       "      <th>right</th>\n",
       "      <th>p_w1</th>\n",
       "      <th>p_w2</th>\n",
       "      <th>p_phrase</th>\n",
       "      <th>compatibility_score</th>\n",
       "      <th>GPT3</th>\n",
       "    </tr>\n",
       "  </thead>\n",
       "  <tbody>\n",
       "    <tr>\n",
       "      <th>0</th>\n",
       "      <td>1.0</td>\n",
       "      <td>1.0</td>\n",
       "      <td>1.0</td>\n",
       "      <td>S</td>\n",
       "      <td>S</td>\n",
       "      <td>S</td>\n",
       "      <td>S_S-S</td>\n",
       "      <td>Абонемент на концерт был дорогим из-за участия...</td>\n",
       "      <td>Абонемент на концерт</td>\n",
       "      <td>был дорогим из-за участия популярных артистов.</td>\n",
       "      <td>-28.359375</td>\n",
       "      <td>-56.28125</td>\n",
       "      <td>-74.0000</td>\n",
       "      <td>10.640625</td>\n",
       "      <td>2560.0</td>\n",
       "    </tr>\n",
       "    <tr>\n",
       "      <th>1</th>\n",
       "      <td>2.0</td>\n",
       "      <td>1.0</td>\n",
       "      <td>1.0</td>\n",
       "      <td>S</td>\n",
       "      <td>S</td>\n",
       "      <td>P</td>\n",
       "      <td>P_S-S</td>\n",
       "      <td>Абонемент на концерт были дорогими из-за участ...</td>\n",
       "      <td>Абонемент на концерт</td>\n",
       "      <td>были дорогими из-за участия популярных артистов.</td>\n",
       "      <td>-28.359375</td>\n",
       "      <td>-55.06250</td>\n",
       "      <td>-79.3750</td>\n",
       "      <td>4.046875</td>\n",
       "      <td>793.0</td>\n",
       "    </tr>\n",
       "    <tr>\n",
       "      <th>2</th>\n",
       "      <td>3.0</td>\n",
       "      <td>1.0</td>\n",
       "      <td>1.0</td>\n",
       "      <td>S</td>\n",
       "      <td>P</td>\n",
       "      <td>S</td>\n",
       "      <td>S_S-P</td>\n",
       "      <td>Абонемент на концерты был дорогим из-за участи...</td>\n",
       "      <td>Абонемент на концерты</td>\n",
       "      <td>был дорогим из-за участия популярных артистов.</td>\n",
       "      <td>-27.984375</td>\n",
       "      <td>-56.28125</td>\n",
       "      <td>-74.5625</td>\n",
       "      <td>9.703125</td>\n",
       "      <td>2746.0</td>\n",
       "    </tr>\n",
       "    <tr>\n",
       "      <th>3</th>\n",
       "      <td>4.0</td>\n",
       "      <td>1.0</td>\n",
       "      <td>1.0</td>\n",
       "      <td>S</td>\n",
       "      <td>P</td>\n",
       "      <td>P</td>\n",
       "      <td>P_S-P</td>\n",
       "      <td>Абонемент на концерты были дорогими из-за учас...</td>\n",
       "      <td>Абонемент на концерты</td>\n",
       "      <td>были дорогими из-за участия популярных артистов.</td>\n",
       "      <td>-27.984375</td>\n",
       "      <td>-55.06250</td>\n",
       "      <td>-75.9375</td>\n",
       "      <td>7.109375</td>\n",
       "      <td>871.0</td>\n",
       "    </tr>\n",
       "    <tr>\n",
       "      <th>4</th>\n",
       "      <td>5.0</td>\n",
       "      <td>1.0</td>\n",
       "      <td>1.0</td>\n",
       "      <td>P</td>\n",
       "      <td>S</td>\n",
       "      <td>S</td>\n",
       "      <td>S_P-S</td>\n",
       "      <td>Абонементы на концерт был дорогим из-за участи...</td>\n",
       "      <td>Абонементы на концерт</td>\n",
       "      <td>был дорогим из-за участия популярных артистов.</td>\n",
       "      <td>-28.640625</td>\n",
       "      <td>-56.28125</td>\n",
       "      <td>-75.6875</td>\n",
       "      <td>9.234375</td>\n",
       "      <td>1808.0</td>\n",
       "    </tr>\n",
       "  </tbody>\n",
       "</table>\n",
       "</div>"
      ],
      "text/plain": [
       "   Prot  Sent  Group N1 N2 Pred   Code  \\\n",
       "0   1.0   1.0    1.0  S  S    S  S_S-S   \n",
       "1   2.0   1.0    1.0  S  S    P  P_S-S   \n",
       "2   3.0   1.0    1.0  S  P    S  S_S-P   \n",
       "3   4.0   1.0    1.0  S  P    P  P_S-P   \n",
       "4   5.0   1.0    1.0  P  S    S  S_P-S   \n",
       "\n",
       "                                            Sentence                   left  \\\n",
       "0  Абонемент на концерт был дорогим из-за участия...   Абонемент на концерт   \n",
       "1  Абонемент на концерт были дорогими из-за участ...   Абонемент на концерт   \n",
       "2  Абонемент на концерты был дорогим из-за участи...  Абонемент на концерты   \n",
       "3  Абонемент на концерты были дорогими из-за учас...  Абонемент на концерты   \n",
       "4  Абонементы на концерт был дорогим из-за участи...  Абонементы на концерт   \n",
       "\n",
       "                                              right       p_w1      p_w2  \\\n",
       "0    был дорогим из-за участия популярных артистов. -28.359375 -56.28125   \n",
       "1  были дорогими из-за участия популярных артистов. -28.359375 -55.06250   \n",
       "2    был дорогим из-за участия популярных артистов. -27.984375 -56.28125   \n",
       "3  были дорогими из-за участия популярных артистов. -27.984375 -55.06250   \n",
       "4    был дорогим из-за участия популярных артистов. -28.640625 -56.28125   \n",
       "\n",
       "   p_phrase  compatibility_score    GPT3  \n",
       "0  -74.0000            10.640625  2560.0  \n",
       "1  -79.3750             4.046875   793.0  \n",
       "2  -74.5625             9.703125  2746.0  \n",
       "3  -75.9375             7.109375   871.0  \n",
       "4  -75.6875             9.234375  1808.0  "
      ]
     },
     "execution_count": 41,
     "metadata": {},
     "output_type": "execute_result"
    }
   ],
   "source": [
    "df.head()"
   ]
  },
  {
   "cell_type": "code",
   "execution_count": 42,
   "id": "5d744c2d-d3d3-4533-b798-f15f50d40e95",
   "metadata": {},
   "outputs": [],
   "source": [
    "df.to_csv(r'./stimuli_2018_test1_withpred.csv', encoding='utf8')"
   ]
  },
  {
   "cell_type": "markdown",
   "id": "f5d87742-e139-409c-9d16-7f8e1b8c3343",
   "metadata": {},
   "source": [
    "## Квази-перплексия (лучше не использовать)"
   ]
  },
  {
   "cell_type": "code",
   "execution_count": 42,
   "id": "3c75a5d0-b91a-4734-b41f-e3ca5bbed1cf",
   "metadata": {},
   "outputs": [
    {
     "data": {
      "application/vnd.jupyter.widget-view+json": {
       "model_id": "0c722efdf3f14a9bb6ebb9440ccaba9a",
       "version_major": 2,
       "version_minor": 0
      },
      "text/plain": [
       "Downloading tokenizer_config.json:   0%|          | 0.00/52.0 [00:00<?, ?B/s]"
      ]
     },
     "metadata": {},
     "output_type": "display_data"
    },
    {
     "data": {
      "application/vnd.jupyter.widget-view+json": {
       "model_id": "0a658dc5b92f4ca3995a8f757b490143",
       "version_major": 2,
       "version_minor": 0
      },
      "text/plain": [
       "Downloading config.json:   0%|          | 0.00/579 [00:00<?, ?B/s]"
      ]
     },
     "metadata": {},
     "output_type": "display_data"
    },
    {
     "data": {
      "application/vnd.jupyter.widget-view+json": {
       "model_id": "422879317ee74a958641657188c0a3d4",
       "version_major": 2,
       "version_minor": 0
      },
      "text/plain": [
       "Downloading spm.model:   0%|          | 0.00/4.31M [00:00<?, ?B/s]"
      ]
     },
     "metadata": {},
     "output_type": "display_data"
    },
    {
     "name": "stderr",
     "output_type": "stream",
     "text": [
      "/usr/local/lib/python3.10/dist-packages/transformers/convert_slow_tokenizer.py:473: UserWarning: The sentencepiece tokenizer that you are converting to a fast tokenizer uses the byte fallback option which is not implemented in the fast tokenizers. In practice this means that the fast version of the tokenizer can produce unknown tokens whereas the sentencepiece version would have converted these unknown tokens into a sequence of byte tokens matching the original piece of text.\n",
      "  warnings.warn(\n"
     ]
    },
    {
     "data": {
      "application/vnd.jupyter.widget-view+json": {
       "model_id": "220e3f1b2718416d90ad675cfa48b585",
       "version_major": 2,
       "version_minor": 0
      },
      "text/plain": [
       "Downloading pytorch_model.bin:   0%|          | 0.00/1.33G [00:00<?, ?B/s]"
      ]
     },
     "metadata": {},
     "output_type": "display_data"
    },
    {
     "name": "stderr",
     "output_type": "stream",
     "text": [
      "Some weights of DebertaV2ForMaskedLM were not initialized from the model checkpoint at microsoft/mdeberta-v3-base and are newly initialized: ['cls.predictions.transform.LayerNorm.bias', 'cls.predictions.bias', 'cls.predictions.decoder.bias', 'cls.predictions.transform.dense.weight', 'cls.predictions.transform.LayerNorm.weight', 'cls.predictions.transform.dense.bias']\n",
      "You should probably TRAIN this model on a down-stream task to be able to use it for predictions and inference.\n"
     ]
    }
   ],
   "source": [
    "from transformers import AutoTokenizer, AutoModelForMaskedLM\n",
    "\n",
    "tokenizer = AutoTokenizer.from_pretrained(\"microsoft/mdeberta-v3-base\")\n",
    "model = AutoModelForMaskedLM.from_pretrained(\"microsoft/mdeberta-v3-base\")"
   ]
  },
  {
   "cell_type": "code",
   "execution_count": 99,
   "id": "acc2aff2-1373-4a04-9d23-959728fc42a8",
   "metadata": {},
   "outputs": [],
   "source": [
    "from transformers import AutoTokenizer, AutoModelForSequenceClassification\n",
    "\n",
    "tokenizer = AutoTokenizer.from_pretrained(\"s-nlp/ruRoberta-large-RuCoLa-v1\")\n",
    "model = AutoModelForSequenceClassification.from_pretrained(\"s-nlp/ruRoberta-large-RuCoLa-v1\")\n",
    "\n",
    "from transformers import TextClassificationPipeline\n",
    "\n",
    "class Quazi(TextClassificationPipeline):\n",
    "    def postprocess(self, model_outputs):\n",
    "        best_class = model_outputs[\"logits\"]\n",
    "        return best_class\n",
    "\n",
    "pipe = Quazi(model=model, tokenizer=tokenizer)"
   ]
  },
  {
   "cell_type": "code",
   "execution_count": 102,
   "id": "e221945e-23f2-4404-8124-c50fea43e71c",
   "metadata": {},
   "outputs": [],
   "source": [
    "raw = pipe(df['Sentence'].to_list(), batch_size=32)"
   ]
  },
  {
   "cell_type": "code",
   "execution_count": 119,
   "id": "d5b96787-ee4c-4bf1-a4a9-2deac8f5a44f",
   "metadata": {},
   "outputs": [],
   "source": [
    "a = []\n",
    "b = []\n",
    "for i in raw:\n",
    "    ar = i.tolist()[0]\n",
    "    a.append(ar[0])\n",
    "    b.append(ar[1])"
   ]
  },
  {
   "cell_type": "code",
   "execution_count": 121,
   "id": "98dd1307-3e45-4e43-9747-4b4178067258",
   "metadata": {},
   "outputs": [],
   "source": [
    "df['rucola0'] = a\n",
    "df['rucola1'] = b"
   ]
  },
  {
   "cell_type": "code",
   "execution_count": 125,
   "id": "97f71eb0-1a1a-4cb1-bc1e-a9d36661b8fc",
   "metadata": {},
   "outputs": [],
   "source": [
    "#df.to_csv(r'./stimuli_2018_test1_withpred.csv', encoding='utf8')"
   ]
  },
  {
   "cell_type": "code",
   "execution_count": 43,
   "id": "a4e51b7b-4eb8-45cf-b162-98122a99a187",
   "metadata": {},
   "outputs": [],
   "source": [
    "def calculate_perplexity(sentence):\n",
    "    inputs = tokenizer(sentence, return_tensors='pt')\n",
    "    with torch.no_grad():\n",
    "        outputs = model(**inputs, labels=inputs['input_ids'])\n",
    "    loss = outputs.loss\n",
    "    perplexity = torch.exp(loss)\n",
    "    return perplexity.item()"
   ]
  },
  {
   "cell_type": "code",
   "execution_count": 44,
   "id": "5f923f33-95e5-4db5-a6aa-3f576e33fec1",
   "metadata": {},
   "outputs": [],
   "source": [
    "df['mdeberta-v3-base'] = df['Sentence'].apply(lambda a: calculate_perplexity(a))"
   ]
  },
  {
   "cell_type": "markdown",
   "id": "1cf4eb49-9ede-47e7-bbee-58a494b8da40",
   "metadata": {},
   "source": [
    "## подвал"
   ]
  },
  {
   "cell_type": "code",
   "execution_count": null,
   "id": "a57881f2-8ab1-4891-ba27-5e2b3931a3b1",
   "metadata": {},
   "outputs": [],
   "source": [
    "perplexity = evaluate.load(\"perplexity\", module_type=\"metric\")\n",
    "input_texts = [\"lorem ipsum\", \"Happy Birthday!\", \"Bienvenue\"]\n",
    "\n",
    "results = perplexity.compute(model_id='gpt2',\n",
    "                             add_start_token=False,\n",
    "                             predictions=input_texts)\n",
    "print(list(results.keys()))"
   ]
  },
  {
   "cell_type": "code",
   "execution_count": 44,
   "id": "28a81e2c-6d0b-4b68-a812-270f2678604a",
   "metadata": {},
   "outputs": [],
   "source": [
    "encodings = tokenizer(\"Абонемент на концерт были дорогими из-за участия популярных артистов.\", return_tensors=\"pt\")"
   ]
  },
  {
   "cell_type": "code",
   "execution_count": 48,
   "id": "02bedb13-1234-4326-92cd-710949a0b8a6",
   "metadata": {},
   "outputs": [
    {
     "data": {
      "text/plain": [
       "{'input_ids': tensor([[28130,   361, 43577,   310, 11035,  1027,  5990,   356,   419,    18,\n",
       "           440,  9379, 15896, 35586,    19]]), 'attention_mask': tensor([[1, 1, 1, 1, 1, 1, 1, 1, 1, 1, 1, 1, 1, 1, 1]])}"
      ]
     },
     "execution_count": 48,
     "metadata": {},
     "output_type": "execute_result"
    }
   ],
   "source": [
    "encodings"
   ]
  },
  {
   "cell_type": "code",
   "execution_count": 49,
   "id": "e325f8b0-0df7-4bb0-834a-5d2b0de2bb4b",
   "metadata": {},
   "outputs": [
    {
     "data": {
      "text/plain": [
       "{'input_ids': tensor([[28130,   361, 43577,   310, 11035,   776,  5990,   356,   419,    18,\n",
       "           440,  9379, 15896, 35586,    19]]), 'attention_mask': tensor([[1, 1, 1, 1, 1, 1, 1, 1, 1, 1, 1, 1, 1, 1, 1]])}"
      ]
     },
     "execution_count": 49,
     "metadata": {},
     "output_type": "execute_result"
    }
   ],
   "source": [
    "tokenizer(\"Абонемент на концерт был дорогими из-за участия популярных артистов.\", return_tensors=\"pt\")"
   ]
  },
  {
   "cell_type": "code",
   "execution_count": 45,
   "id": "c77b0bc6-eb4d-4d2a-851f-ef88b796f5bc",
   "metadata": {},
   "outputs": [],
   "source": [
    "device='cuda'"
   ]
  },
  {
   "cell_type": "code",
   "execution_count": 50,
   "id": "6f15822d-6d7d-4955-accf-c4ac22820b75",
   "metadata": {},
   "outputs": [
    {
     "name": "stderr",
     "output_type": "stream",
     "text": [
      "  0%|                                                                                            | 0/15 [00:00<?, ?it/s]"
     ]
    },
    {
     "name": "stdout",
     "output_type": "stream",
     "text": [
      "0 15 15\n"
     ]
    },
    {
     "name": "stderr",
     "output_type": "stream",
     "text": [
      "  0%|                                                                                            | 0/15 [00:00<?, ?it/s]\n"
     ]
    }
   ],
   "source": [
    "import torch\n",
    "from tqdm import tqdm\n",
    "\n",
    "max_length = model.config.n_positions\n",
    "stride = 1\n",
    "seq_len = encodings.input_ids.size(1)\n",
    "\n",
    "nlls = []\n",
    "prev_end_loc = 0\n",
    "for begin_loc in tqdm(range(0, seq_len, stride)):\n",
    "    end_loc = min(begin_loc + max_length, seq_len)\n",
    "    trg_len = end_loc - prev_end_loc  # may be different from stride on last loop\n",
    "    print(begin_loc, end_loc, trg_len)\n",
    "    input_ids = encodings.input_ids[:, begin_loc:end_loc].to(device)\n",
    "    target_ids = input_ids.clone()\n",
    "    target_ids[:, :-trg_len] = -100\n",
    "\n",
    "    with torch.no_grad():\n",
    "        outputs = model(input_ids, labels=target_ids)\n",
    "\n",
    "        # loss is calculated using CrossEntropyLoss which averages over valid labels\n",
    "        # N.B. the model only calculates loss over trg_len - 1 labels, because it internally shifts the labels\n",
    "        # to the left by 1.\n",
    "        neg_log_likelihood = outputs.loss\n",
    "\n",
    "    nlls.append(neg_log_likelihood)\n",
    "\n",
    "    prev_end_loc = end_loc\n",
    "    if end_loc == seq_len:\n",
    "        break\n",
    "\n",
    "ppl = torch.exp(torch.stack(nlls).mean())"
   ]
  },
  {
   "cell_type": "code",
   "execution_count": 43,
   "id": "6ed15af7-91a4-4d06-879d-872806a73df0",
   "metadata": {},
   "outputs": [
    {
     "data": {
      "text/plain": [
       "tensor(55.6875, device='cuda:0', dtype=torch.float16)"
      ]
     },
     "execution_count": 43,
     "metadata": {},
     "output_type": "execute_result"
    }
   ],
   "source": [
    "ppl"
   ]
  },
  {
   "cell_type": "code",
   "execution_count": 47,
   "id": "518a3677-d1f0-460d-b515-dd4aa217752d",
   "metadata": {},
   "outputs": [
    {
     "data": {
      "text/plain": [
       "tensor(62.5938, device='cuda:0', dtype=torch.float16)"
      ]
     },
     "execution_count": 47,
     "metadata": {},
     "output_type": "execute_result"
    }
   ],
   "source": [
    "ppl"
   ]
  },
  {
   "cell_type": "code",
   "execution_count": null,
   "id": "4fa10334-8a04-45a7-a589-1efa6c9002a3",
   "metadata": {},
   "outputs": [],
   "source": []
  },
  {
   "cell_type": "code",
   "execution_count": null,
   "id": "71a056df-227a-4c1c-ba7d-68aba2e2883a",
   "metadata": {},
   "outputs": [],
   "source": []
  },
  {
   "cell_type": "code",
   "execution_count": 3,
   "id": "c9a2880e-de62-48bd-964e-8e18f1e31fb0",
   "metadata": {},
   "outputs": [],
   "source": [
    "name = \"nolanoAI/lordcoder-v0-13-2B\""
   ]
  },
  {
   "cell_type": "code",
   "execution_count": null,
   "id": "425cdc99-89d1-4d54-9b6c-6e40838045ba",
   "metadata": {},
   "outputs": [],
   "source": [
    "from accelerate import init_empty_weights\n",
    "with init_empty_weights():\n",
    "    my_model = AutoModelForCausalLM.from_pretrained(name,trust_remote_code=True,)\n",
    "    print(my_model)"
   ]
  },
  {
   "cell_type": "code",
   "execution_count": null,
   "id": "da6efe22-1b6c-4336-8a5b-5ca2ec602d17",
   "metadata": {},
   "outputs": [],
   "source": []
  },
  {
   "cell_type": "code",
   "execution_count": null,
   "id": "3441fe87-7939-4e8d-b16e-fd2c9b73f1d2",
   "metadata": {},
   "outputs": [],
   "source": []
  },
  {
   "cell_type": "code",
   "execution_count": 9,
   "id": "0e3e23ab-8e72-46d0-883f-65ff8ad6ee93",
   "metadata": {},
   "outputs": [
    {
     "name": "stderr",
     "output_type": "stream",
     "text": [
      "Setting `pad_token_id` to `eos_token_id`:50256 for open-end generation.\n"
     ]
    },
    {
     "name": "stdout",
     "output_type": "stream",
     "text": [
      "# PyTorch CNN on MNIST\n",
      "import torch\n",
      "from gensim.models import Sequential, Comparable\n",
      "from gensim.mixins import ModelMixin\n",
      "from torchtesting.cnnclassifier import CNNClassifier\n",
      "from torchtesting.libtorchfile import LibtorchTestClassFile\n",
      "import scikit-learn\n",
      "from sklearn.neighbors import TournamentRankGenerator as NG_TRank\n",
      "\n",
      "def cnnparser(s):\n",
      "    \"\"\"Convert a PyTorch python script into a valid C++ code.\"\"\"\n",
      "    cnn = Scanner(s).read()\n",
      "    return ['CONSTRAINED_COMPARABILITY',\n",
      "            'COMPATIBLE_RANKS',\n",
      "            'ORDERING',\n",
      "            'LIMITATION_VALUE',\n",
      "            'RESULTS']\n",
      "\n",
      "def test_random_word(self):\n",
      "    seq_train = self.open('seq_training.scss', 'wb')\n"
     ]
    }
   ],
   "source": [
    "prompt = '# PyTorch CNN on MNIST\\nimport torch\\n'\n",
    "\n",
    "# Run text-generation pipeline\n",
    "pipe = pipeline('text-generation', model=model, tokenizer=tokenizer)\n",
    "\n",
    "# Generate output\n",
    "output = pipe(\n",
    "    prompt,\n",
    "    max_new_tokens=256,\n",
    "    top_k=40,\n",
    "    top_p=0.85,\n",
    "    repetition_penalty=1.1,\n",
    "    do_sample=True,\n",
    "    use_cache=False,\n",
    ")\n",
    "print(output[0]['generated_text'])"
   ]
  },
  {
   "cell_type": "code",
   "execution_count": null,
   "id": "43cc8b29-c5ea-4cb1-b65a-39f48272bb6b",
   "metadata": {},
   "outputs": [],
   "source": [
    "inputs = {k: v.to(device) for k,v in tokenizer('# PyTorch CNN on MNIST\\nimport torch\\n', return_tensors='pt').items()}\n",
    "\n",
    "generated_ids = model.generate(\n",
    "        **inputs,\n",
    "        use_cache=True,\n",
    "        max_new_tokens=500,\n",
    "        temperature=0.1,\n",
    "        top_p=0.95,\n",
    "        do_sample=True,\n",
    "        eos_token_id=tokenizer.eos_token_id,\n",
    "        pad_token_id=tokenizer.eos_token_id,\n",
    "    )"
   ]
  },
  {
   "cell_type": "code",
   "execution_count": null,
   "id": "5875d14b-3f13-42a8-ae20-383e07a097a2",
   "metadata": {},
   "outputs": [],
   "source": [
    "# Sample texts\n",
    "system_prompt = (\n",
    "    \"Ты - модель искусственного интеллекта ruGPT-3.5 13B, которая очень хорошо следует инструкциям. \"\n",
    "    \"Твоя задача - помогать пользователю и отвечать на вопросы. \"\n",
    "    \"Будь внимательна и не делай ничего противозаконного.\"\n",
    ")\n",
    "bot_message = 'Привет, чем я могу помочь?'\n",
    "message = \"Напиши стихотворение о программистах\"\n",
    "prompt = f\"### Система:\\n{system_prompt}\\n\\n### Бот:\\n{bot_message}\\n\\n### Пользователь:\\n{message}\\n\\n### Бот:\\n\"\n",
    "\n",
    "# Run text-generation pipeline\n",
    "pipe = pipeline('text-generation', model=model, tokenizer=tokenizer)\n",
    "\n",
    "# Generate output\n",
    "output = pipe(\n",
    "    prompt,\n",
    "    max_new_tokens=256,\n",
    "    top_k=40,\n",
    "    top_p=0.85,\n",
    "    repetition_penalty=1.1,\n",
    "    do_sample=True,\n",
    "    use_cache=False,\n",
    ")\n",
    "print(output[0]['generated_text'])"
   ]
  },
  {
   "cell_type": "code",
   "execution_count": 14,
   "id": "28d1fe5b-30e2-4dc3-8d81-036da0a67053",
   "metadata": {},
   "outputs": [
    {
     "name": "stdout",
     "output_type": "stream",
     "text": [
      "-21.28125\n"
     ]
    }
   ],
   "source": [
    "def get_log_proba(text):\n",
    "    all_tokens = tokenizer(f', {text},', return_tensors='pt').input_ids.to('cuda')\n",
    "    prev_tokens = all_tokens[:, :-1]\n",
    "    next_tokens = all_tokens[:, 1:]\n",
    "    with torch.inference_mode():\n",
    "        model_out = model(prev_tokens)\n",
    "        tokens_log_proba = torch.gather(torch.log_softmax(model_out.logits, -1), 2, next_tokens.unsqueeze(-1))\n",
    "        phrase_log_proba = tokens_log_proba.sum().item()\n",
    "        \n",
    "        #loss = model_out.loss\n",
    "        #perplexity = torch.exp(loss)\n",
    "        #phrase_log_proba = perplexity.item()\n",
    "    return phrase_log_proba\n",
    "\n",
    "print(get_log_proba('обзор журналов'))"
   ]
  },
  {
   "cell_type": "code",
   "execution_count": null,
   "id": "c59b1def-02ef-49be-a886-409e4b3f7e61",
   "metadata": {},
   "outputs": [],
   "source": [
    "a = [\"Абонемент на концерт\",\n",
    "\"Абонемент на концерт\", \n",
    "\"Абонемент на концерты\", \n",
    "\"Абонемент на концерты\", \n",
    "\"Абонементы на концерт\",\n",
    "\"Абонементы на концерт\",\n",
    "\"Абонементы на концерты\",\n",
    "\"Абонементы на концерты\",]\n",
    "\n",
    "b = [\"был дорогим из-за участия популярных артистов.\",\n",
    " \"были дорогими из-за участия популярных артистов.\",\n",
    " \"был дорогим из-за участия популярных артистов.\",\n",
    " \"были дорогими из-за участия популярных артистов.\",\n",
    " \"был дорогим из-за участия популярных артистов.\",\n",
    " \"были дорогими из-за участия популярных артистов.\",\n",
    " \"был дорогим из-за участия популярных артистов.\",\n",
    " \"были дорогими из-за участия популярных артистов.\"]"
   ]
  },
  {
   "cell_type": "code",
   "execution_count": 17,
   "id": "f8775dd5-53c5-40ba-a234-b2f5c127e7c3",
   "metadata": {},
   "outputs": [],
   "source": [
    "import pandas as pd"
   ]
  },
  {
   "cell_type": "code",
   "execution_count": 18,
   "id": "442e4594-806c-4172-894d-75768ed7c0ea",
   "metadata": {},
   "outputs": [],
   "source": [
    "new = pd.DataFrame()\n",
    "new['w1'] = a\n",
    "new['w2'] = b\n",
    "new['phrase'] = new['w1'] +' '+ new['w2']"
   ]
  },
  {
   "cell_type": "code",
   "execution_count": 19,
   "id": "b5164eb9-ba3e-4766-bb84-07f1672085cb",
   "metadata": {},
   "outputs": [],
   "source": [
    "new['p_w1'] = [get_log_proba(w) for w in new.w1]\n",
    "new['p_w2'] = [get_log_proba(w) for w in new.w2]\n",
    "new['p_phrase'] = [get_log_proba(w) for w in new.phrase]"
   ]
  },
  {
   "cell_type": "code",
   "execution_count": 20,
   "id": "97046fc4-10d5-4eb0-bc5a-173d0204ba59",
   "metadata": {},
   "outputs": [
    {
     "data": {
      "text/html": [
       "<style type=\"text/css\">\n",
       "#T_ecddf_row0_col3, #T_ecddf_row1_col3 {\n",
       "  background-color: #4062fa;\n",
       "  color: #f1f1f1;\n",
       "}\n",
       "#T_ecddf_row0_col4, #T_ecddf_row1_col5, #T_ecddf_row1_col6, #T_ecddf_row2_col4, #T_ecddf_row4_col3, #T_ecddf_row4_col4, #T_ecddf_row5_col3, #T_ecddf_row6_col4 {\n",
       "  background-color: #8000ff;\n",
       "  color: #f1f1f1;\n",
       "}\n",
       "#T_ecddf_row0_col5 {\n",
       "  background-color: #d9da7d;\n",
       "  color: #000000;\n",
       "}\n",
       "#T_ecddf_row0_col6, #T_ecddf_row1_col4, #T_ecddf_row3_col4, #T_ecddf_row5_col4, #T_ecddf_row6_col3, #T_ecddf_row7_col3, #T_ecddf_row7_col4, #T_ecddf_row7_col5 {\n",
       "  background-color: #ff0000;\n",
       "  color: #f1f1f1;\n",
       "}\n",
       "#T_ecddf_row2_col3, #T_ecddf_row3_col3 {\n",
       "  background-color: #18cde4;\n",
       "  color: #000000;\n",
       "}\n",
       "#T_ecddf_row2_col5 {\n",
       "  background-color: #b4f295;\n",
       "  color: #000000;\n",
       "}\n",
       "#T_ecddf_row2_col6 {\n",
       "  background-color: #ff6d38;\n",
       "  color: #f1f1f1;\n",
       "}\n",
       "#T_ecddf_row3_col5 {\n",
       "  background-color: #5df9c7;\n",
       "  color: #000000;\n",
       "}\n",
       "#T_ecddf_row3_col6, #T_ecddf_row4_col5 {\n",
       "  background-color: #6dfdbf;\n",
       "  color: #000000;\n",
       "}\n",
       "#T_ecddf_row4_col6 {\n",
       "  background-color: #ff9d53;\n",
       "  color: #000000;\n",
       "}\n",
       "#T_ecddf_row5_col5 {\n",
       "  background-color: #ffa055;\n",
       "  color: #000000;\n",
       "}\n",
       "#T_ecddf_row5_col6 {\n",
       "  background-color: #ff0603;\n",
       "  color: #f1f1f1;\n",
       "}\n",
       "#T_ecddf_row6_col5 {\n",
       "  background-color: #3c68f9;\n",
       "  color: #f1f1f1;\n",
       "}\n",
       "#T_ecddf_row6_col6 {\n",
       "  background-color: #642cfe;\n",
       "  color: #f1f1f1;\n",
       "}\n",
       "#T_ecddf_row7_col6 {\n",
       "  background-color: #ff3b1e;\n",
       "  color: #f1f1f1;\n",
       "}\n",
       "</style>\n",
       "<table id=\"T_ecddf\">\n",
       "  <thead>\n",
       "    <tr>\n",
       "      <th class=\"blank level0\" >&nbsp;</th>\n",
       "      <th id=\"T_ecddf_level0_col0\" class=\"col_heading level0 col0\" >w1</th>\n",
       "      <th id=\"T_ecddf_level0_col1\" class=\"col_heading level0 col1\" >w2</th>\n",
       "      <th id=\"T_ecddf_level0_col2\" class=\"col_heading level0 col2\" >phrase</th>\n",
       "      <th id=\"T_ecddf_level0_col3\" class=\"col_heading level0 col3\" >p_w1</th>\n",
       "      <th id=\"T_ecddf_level0_col4\" class=\"col_heading level0 col4\" >p_w2</th>\n",
       "      <th id=\"T_ecddf_level0_col5\" class=\"col_heading level0 col5\" >p_phrase</th>\n",
       "      <th id=\"T_ecddf_level0_col6\" class=\"col_heading level0 col6\" >compatibility_score</th>\n",
       "    </tr>\n",
       "  </thead>\n",
       "  <tbody>\n",
       "    <tr>\n",
       "      <th id=\"T_ecddf_level0_row0\" class=\"row_heading level0 row0\" >0</th>\n",
       "      <td id=\"T_ecddf_row0_col0\" class=\"data row0 col0\" >Абонемент на концерт</td>\n",
       "      <td id=\"T_ecddf_row0_col1\" class=\"data row0 col1\" >был дорогим из-за участия популярных артистов.</td>\n",
       "      <td id=\"T_ecddf_row0_col2\" class=\"data row0 col2\" >Абонемент на концерт был дорогим из-за участия популярных артистов.</td>\n",
       "      <td id=\"T_ecddf_row0_col3\" class=\"data row0 col3\" >-28.359375</td>\n",
       "      <td id=\"T_ecddf_row0_col4\" class=\"data row0 col4\" >-56.281250</td>\n",
       "      <td id=\"T_ecddf_row0_col5\" class=\"data row0 col5\" >-74.000000</td>\n",
       "      <td id=\"T_ecddf_row0_col6\" class=\"data row0 col6\" >10.640625</td>\n",
       "    </tr>\n",
       "    <tr>\n",
       "      <th id=\"T_ecddf_level0_row1\" class=\"row_heading level0 row1\" >1</th>\n",
       "      <td id=\"T_ecddf_row1_col0\" class=\"data row1 col0\" >Абонемент на концерт</td>\n",
       "      <td id=\"T_ecddf_row1_col1\" class=\"data row1 col1\" >были дорогими из-за участия популярных артистов.</td>\n",
       "      <td id=\"T_ecddf_row1_col2\" class=\"data row1 col2\" >Абонемент на концерт были дорогими из-за участия популярных артистов.</td>\n",
       "      <td id=\"T_ecddf_row1_col3\" class=\"data row1 col3\" >-28.359375</td>\n",
       "      <td id=\"T_ecddf_row1_col4\" class=\"data row1 col4\" >-55.062500</td>\n",
       "      <td id=\"T_ecddf_row1_col5\" class=\"data row1 col5\" >-79.375000</td>\n",
       "      <td id=\"T_ecddf_row1_col6\" class=\"data row1 col6\" >4.046875</td>\n",
       "    </tr>\n",
       "    <tr>\n",
       "      <th id=\"T_ecddf_level0_row2\" class=\"row_heading level0 row2\" >2</th>\n",
       "      <td id=\"T_ecddf_row2_col0\" class=\"data row2 col0\" >Абонемент на концерты</td>\n",
       "      <td id=\"T_ecddf_row2_col1\" class=\"data row2 col1\" >был дорогим из-за участия популярных артистов.</td>\n",
       "      <td id=\"T_ecddf_row2_col2\" class=\"data row2 col2\" >Абонемент на концерты был дорогим из-за участия популярных артистов.</td>\n",
       "      <td id=\"T_ecddf_row2_col3\" class=\"data row2 col3\" >-27.984375</td>\n",
       "      <td id=\"T_ecddf_row2_col4\" class=\"data row2 col4\" >-56.281250</td>\n",
       "      <td id=\"T_ecddf_row2_col5\" class=\"data row2 col5\" >-74.562500</td>\n",
       "      <td id=\"T_ecddf_row2_col6\" class=\"data row2 col6\" >9.703125</td>\n",
       "    </tr>\n",
       "    <tr>\n",
       "      <th id=\"T_ecddf_level0_row3\" class=\"row_heading level0 row3\" >3</th>\n",
       "      <td id=\"T_ecddf_row3_col0\" class=\"data row3 col0\" >Абонемент на концерты</td>\n",
       "      <td id=\"T_ecddf_row3_col1\" class=\"data row3 col1\" >были дорогими из-за участия популярных артистов.</td>\n",
       "      <td id=\"T_ecddf_row3_col2\" class=\"data row3 col2\" >Абонемент на концерты были дорогими из-за участия популярных артистов.</td>\n",
       "      <td id=\"T_ecddf_row3_col3\" class=\"data row3 col3\" >-27.984375</td>\n",
       "      <td id=\"T_ecddf_row3_col4\" class=\"data row3 col4\" >-55.062500</td>\n",
       "      <td id=\"T_ecddf_row3_col5\" class=\"data row3 col5\" >-75.937500</td>\n",
       "      <td id=\"T_ecddf_row3_col6\" class=\"data row3 col6\" >7.109375</td>\n",
       "    </tr>\n",
       "    <tr>\n",
       "      <th id=\"T_ecddf_level0_row4\" class=\"row_heading level0 row4\" >4</th>\n",
       "      <td id=\"T_ecddf_row4_col0\" class=\"data row4 col0\" >Абонементы на концерт</td>\n",
       "      <td id=\"T_ecddf_row4_col1\" class=\"data row4 col1\" >был дорогим из-за участия популярных артистов.</td>\n",
       "      <td id=\"T_ecddf_row4_col2\" class=\"data row4 col2\" >Абонементы на концерт был дорогим из-за участия популярных артистов.</td>\n",
       "      <td id=\"T_ecddf_row4_col3\" class=\"data row4 col3\" >-28.640625</td>\n",
       "      <td id=\"T_ecddf_row4_col4\" class=\"data row4 col4\" >-56.281250</td>\n",
       "      <td id=\"T_ecddf_row4_col5\" class=\"data row4 col5\" >-75.687500</td>\n",
       "      <td id=\"T_ecddf_row4_col6\" class=\"data row4 col6\" >9.234375</td>\n",
       "    </tr>\n",
       "    <tr>\n",
       "      <th id=\"T_ecddf_level0_row5\" class=\"row_heading level0 row5\" >5</th>\n",
       "      <td id=\"T_ecddf_row5_col0\" class=\"data row5 col0\" >Абонементы на концерт</td>\n",
       "      <td id=\"T_ecddf_row5_col1\" class=\"data row5 col1\" >были дорогими из-за участия популярных артистов.</td>\n",
       "      <td id=\"T_ecddf_row5_col2\" class=\"data row5 col2\" >Абонементы на концерт были дорогими из-за участия популярных артистов.</td>\n",
       "      <td id=\"T_ecddf_row5_col3\" class=\"data row5 col3\" >-28.640625</td>\n",
       "      <td id=\"T_ecddf_row5_col4\" class=\"data row5 col4\" >-55.062500</td>\n",
       "      <td id=\"T_ecddf_row5_col5\" class=\"data row5 col5\" >-73.125000</td>\n",
       "      <td id=\"T_ecddf_row5_col6\" class=\"data row5 col6\" >10.578125</td>\n",
       "    </tr>\n",
       "    <tr>\n",
       "      <th id=\"T_ecddf_level0_row6\" class=\"row_heading level0 row6\" >6</th>\n",
       "      <td id=\"T_ecddf_row6_col0\" class=\"data row6 col0\" >Абонементы на концерты</td>\n",
       "      <td id=\"T_ecddf_row6_col1\" class=\"data row6 col1\" >был дорогим из-за участия популярных артистов.</td>\n",
       "      <td id=\"T_ecddf_row6_col2\" class=\"data row6 col2\" >Абонементы на концерты был дорогим из-за участия популярных артистов.</td>\n",
       "      <td id=\"T_ecddf_row6_col3\" class=\"data row6 col3\" >-26.453125</td>\n",
       "      <td id=\"T_ecddf_row6_col4\" class=\"data row6 col4\" >-56.281250</td>\n",
       "      <td id=\"T_ecddf_row6_col5\" class=\"data row6 col5\" >-78.312500</td>\n",
       "      <td id=\"T_ecddf_row6_col6\" class=\"data row6 col6\" >4.421875</td>\n",
       "    </tr>\n",
       "    <tr>\n",
       "      <th id=\"T_ecddf_level0_row7\" class=\"row_heading level0 row7\" >7</th>\n",
       "      <td id=\"T_ecddf_row7_col0\" class=\"data row7 col0\" >Абонементы на концерты</td>\n",
       "      <td id=\"T_ecddf_row7_col1\" class=\"data row7 col1\" >были дорогими из-за участия популярных артистов.</td>\n",
       "      <td id=\"T_ecddf_row7_col2\" class=\"data row7 col2\" >Абонементы на концерты были дорогими из-за участия популярных артистов.</td>\n",
       "      <td id=\"T_ecddf_row7_col3\" class=\"data row7 col3\" >-26.453125</td>\n",
       "      <td id=\"T_ecddf_row7_col4\" class=\"data row7 col4\" >-55.062500</td>\n",
       "      <td id=\"T_ecddf_row7_col5\" class=\"data row7 col5\" >-71.375000</td>\n",
       "      <td id=\"T_ecddf_row7_col6\" class=\"data row7 col6\" >10.140625</td>\n",
       "    </tr>\n",
       "  </tbody>\n",
       "</table>\n"
      ],
      "text/plain": [
       "<pandas.io.formats.style.Styler at 0x7f1a6a440f40>"
      ]
     },
     "execution_count": 20,
     "metadata": {},
     "output_type": "execute_result"
    }
   ],
   "source": [
    "new['compatibility_score'] = new['p_phrase'] - new['p_w2'] - new['p_w1']\n",
    "new.style.background_gradient(cmap='rainbow')"
   ]
  },
  {
   "cell_type": "code",
   "execution_count": 25,
   "id": "d0c2339b-dff2-4435-8687-8d183eafec7d",
   "metadata": {},
   "outputs": [
    {
     "data": {
      "text/plain": [
       "tensor([4.8270e-13])"
      ]
     },
     "execution_count": 25,
     "metadata": {},
     "output_type": "execute_result"
    }
   ],
   "source": [
    "torch.exp(torch.tensor([-28.359375]))"
   ]
  },
  {
   "cell_type": "code",
   "execution_count": null,
   "id": "d1e7befd-3127-4418-8502-e750f21de1d7",
   "metadata": {},
   "outputs": [],
   "source": [
    "import torch\n",
    "from peft import PeftModel, PeftConfig\n",
    "from transformers import AutoModelForCausalLM, AutoTokenizer, GenerationConfig\n",
    "\n",
    "MODEL_NAME = \"IlyaGusev/saiga_mistral_7b\"\n",
    "\n",
    "config = PeftConfig.from_pretrained(MODEL_NAME)\n",
    "model = AutoModelForCausalLM.from_pretrained(\n",
    "    config.base_model_name_or_path,\n",
    "    torch_dtype=torch.float16,\n",
    "    device_map=\"auto\"\n",
    ")\n",
    "model = PeftModel.from_pretrained(\n",
    "    model,\n",
    "    MODEL_NAME,\n",
    "    torch_dtype=torch.float16\n",
    ")\n",
    "\n",
    "tokenizer = AutoTokenizer.from_pretrained(MODEL_NAME, use_fast=False)"
   ]
  }
 ],
 "metadata": {
  "kernelspec": {
   "display_name": "Python 3 (ipykernel)",
   "language": "python",
   "name": "python3"
  },
  "language_info": {
   "codemirror_mode": {
    "name": "ipython",
    "version": 3
   },
   "file_extension": ".py",
   "mimetype": "text/x-python",
   "name": "python",
   "nbconvert_exporter": "python",
   "pygments_lexer": "ipython3",
   "version": "3.12.2"
  }
 },
 "nbformat": 4,
 "nbformat_minor": 5
}

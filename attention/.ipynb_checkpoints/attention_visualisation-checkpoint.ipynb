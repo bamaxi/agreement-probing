{
 "cells": [
  {
   "cell_type": "code",
   "execution_count": 3,
   "id": "958c6c77-d8ae-454f-a957-204d4629345c",
   "metadata": {},
   "outputs": [],
   "source": [
    "import pandas as pd"
   ]
  },
  {
   "cell_type": "code",
   "execution_count": 52,
   "id": "8fcd7d77-0039-46e0-8589-e54901aaf22e",
   "metadata": {},
   "outputs": [],
   "source": [
    "df = pd.read_csv(\"rubert-base-cased_obj_attention.csv\")"
   ]
  },
  {
   "cell_type": "code",
   "execution_count": 53,
   "id": "a26ca673-dae4-4ae3-87b1-1370badbfc48",
   "metadata": {},
   "outputs": [],
   "source": [
    "df[[\"pair_1\", \"pair_2\"]] = df[\"comparison\"].str.split(\" - \", expand=True)\n",
    "df = df[[\"pair_1\", \"pair_2\", \"p-value\"]]\n",
    "df[\"p-value\"] = df[\"p-value\"].apply(lambda x: round(x, 2))"
   ]
  },
  {
   "cell_type": "code",
   "execution_count": 54,
   "id": "9e59e382-7fc2-403f-a1bd-e4fd24f63659",
   "metadata": {},
   "outputs": [],
   "source": [
    "new_df = df[[\"pair_1\", \"pair_2\", \"p-value\"]]\n",
    "new_df.columns = [\"pair_2\", \"pair_1\", \"p-value\"]"
   ]
  },
  {
   "cell_type": "code",
   "execution_count": 55,
   "id": "61456b50-8fca-4e1f-9687-80137620c143",
   "metadata": {},
   "outputs": [],
   "source": [
    "df = pd.concat([df, new_df])"
   ]
  },
  {
   "cell_type": "code",
   "execution_count": 56,
   "id": "2f96069d-90a5-43a8-85e4-d6fb33c97a1b",
   "metadata": {},
   "outputs": [],
   "source": [
    "df1 = df.pivot(index=\"pair_1\", columns=\"pair_2\", values=\"p-value\")"
   ]
  },
  {
   "cell_type": "code",
   "execution_count": 57,
   "id": "5d377bed-50d2-4e5c-9ca0-7e2c64f50c0a",
   "metadata": {},
   "outputs": [
    {
     "data": {
      "text/html": [
       "<div>\n",
       "<style scoped>\n",
       "    .dataframe tbody tr th:only-of-type {\n",
       "        vertical-align: middle;\n",
       "    }\n",
       "\n",
       "    .dataframe tbody tr th {\n",
       "        vertical-align: top;\n",
       "    }\n",
       "\n",
       "    .dataframe thead th {\n",
       "        text-align: right;\n",
       "    }\n",
       "</style>\n",
       "<table border=\"1\" class=\"dataframe\">\n",
       "  <thead>\n",
       "    <tr style=\"text-align: right;\">\n",
       "      <th>pair_2</th>\n",
       "      <th>P_P-P</th>\n",
       "      <th>P_P-S</th>\n",
       "      <th>P_S-P</th>\n",
       "      <th>P_S-S</th>\n",
       "      <th>S_P-P</th>\n",
       "      <th>S_P-S</th>\n",
       "      <th>S_S-P</th>\n",
       "      <th>S_S-S</th>\n",
       "    </tr>\n",
       "    <tr>\n",
       "      <th>pair_1</th>\n",
       "      <th></th>\n",
       "      <th></th>\n",
       "      <th></th>\n",
       "      <th></th>\n",
       "      <th></th>\n",
       "      <th></th>\n",
       "      <th></th>\n",
       "      <th></th>\n",
       "    </tr>\n",
       "  </thead>\n",
       "  <tbody>\n",
       "    <tr>\n",
       "      <th>P_P-P</th>\n",
       "      <td>NaN</td>\n",
       "      <td>1.00</td>\n",
       "      <td>0.00</td>\n",
       "      <td>0.06</td>\n",
       "      <td>1.00</td>\n",
       "      <td>0.01</td>\n",
       "      <td>1.00</td>\n",
       "      <td>0.66</td>\n",
       "    </tr>\n",
       "    <tr>\n",
       "      <th>P_P-S</th>\n",
       "      <td>1.00</td>\n",
       "      <td>NaN</td>\n",
       "      <td>0.55</td>\n",
       "      <td>0.02</td>\n",
       "      <td>1.00</td>\n",
       "      <td>0.00</td>\n",
       "      <td>0.27</td>\n",
       "      <td>1.00</td>\n",
       "    </tr>\n",
       "    <tr>\n",
       "      <th>P_S-P</th>\n",
       "      <td>0.00</td>\n",
       "      <td>0.55</td>\n",
       "      <td>NaN</td>\n",
       "      <td>1.00</td>\n",
       "      <td>1.00</td>\n",
       "      <td>0.52</td>\n",
       "      <td>0.00</td>\n",
       "      <td>0.32</td>\n",
       "    </tr>\n",
       "    <tr>\n",
       "      <th>P_S-S</th>\n",
       "      <td>0.06</td>\n",
       "      <td>0.02</td>\n",
       "      <td>1.00</td>\n",
       "      <td>NaN</td>\n",
       "      <td>0.20</td>\n",
       "      <td>0.00</td>\n",
       "      <td>0.00</td>\n",
       "      <td>0.07</td>\n",
       "    </tr>\n",
       "    <tr>\n",
       "      <th>S_P-P</th>\n",
       "      <td>1.00</td>\n",
       "      <td>1.00</td>\n",
       "      <td>1.00</td>\n",
       "      <td>0.20</td>\n",
       "      <td>NaN</td>\n",
       "      <td>0.01</td>\n",
       "      <td>0.12</td>\n",
       "      <td>1.00</td>\n",
       "    </tr>\n",
       "    <tr>\n",
       "      <th>S_P-S</th>\n",
       "      <td>0.01</td>\n",
       "      <td>0.00</td>\n",
       "      <td>0.52</td>\n",
       "      <td>0.00</td>\n",
       "      <td>0.01</td>\n",
       "      <td>NaN</td>\n",
       "      <td>0.00</td>\n",
       "      <td>0.00</td>\n",
       "    </tr>\n",
       "    <tr>\n",
       "      <th>S_S-P</th>\n",
       "      <td>1.00</td>\n",
       "      <td>0.27</td>\n",
       "      <td>0.00</td>\n",
       "      <td>0.00</td>\n",
       "      <td>0.12</td>\n",
       "      <td>0.00</td>\n",
       "      <td>NaN</td>\n",
       "      <td>0.00</td>\n",
       "    </tr>\n",
       "    <tr>\n",
       "      <th>S_S-S</th>\n",
       "      <td>0.66</td>\n",
       "      <td>1.00</td>\n",
       "      <td>0.32</td>\n",
       "      <td>0.07</td>\n",
       "      <td>1.00</td>\n",
       "      <td>0.00</td>\n",
       "      <td>0.00</td>\n",
       "      <td>NaN</td>\n",
       "    </tr>\n",
       "  </tbody>\n",
       "</table>\n",
       "</div>"
      ],
      "text/plain": [
       "pair_2  P_P-P  P_P-S  P_S-P  P_S-S  S_P-P  S_P-S  S_S-P  S_S-S\n",
       "pair_1                                                        \n",
       "P_P-P     NaN   1.00   0.00   0.06   1.00   0.01   1.00   0.66\n",
       "P_P-S    1.00    NaN   0.55   0.02   1.00   0.00   0.27   1.00\n",
       "P_S-P    0.00   0.55    NaN   1.00   1.00   0.52   0.00   0.32\n",
       "P_S-S    0.06   0.02   1.00    NaN   0.20   0.00   0.00   0.07\n",
       "S_P-P    1.00   1.00   1.00   0.20    NaN   0.01   0.12   1.00\n",
       "S_P-S    0.01   0.00   0.52   0.00   0.01    NaN   0.00   0.00\n",
       "S_S-P    1.00   0.27   0.00   0.00   0.12   0.00    NaN   0.00\n",
       "S_S-S    0.66   1.00   0.32   0.07   1.00   0.00   0.00    NaN"
      ]
     },
     "execution_count": 57,
     "metadata": {},
     "output_type": "execute_result"
    }
   ],
   "source": [
    "df1.fillna(1)"
   ]
  },
  {
   "cell_type": "code",
   "execution_count": 58,
   "id": "41b08dc0-a9c8-4b1f-807b-f9a9dcb02ca2",
   "metadata": {},
   "outputs": [
    {
     "data": {
      "text/plain": [
       "<Axes: xlabel='pair_2', ylabel='pair_1'>"
      ]
     },
     "execution_count": 58,
     "metadata": {},
     "output_type": "execute_result"
    },
    {
     "data": {
      "image/png": "[encoded data removed]",
      "text/plain": [
       "<Figure size 640x480 with 2 Axes>"
      ]
     },
     "metadata": {},
     "output_type": "display_data"
    }
   ],
   "source": [
    "import seaborn as sns\n",
    "sns.heatmap(df1, annot=True)"
   ]
  }
 ],
 "metadata": {
  "kernelspec": {
   "display_name": "Python 3.11 (torch)",
   "language": "python",
   "name": "pytorch"
  },
  "language_info": {
   "codemirror_mode": {
    "name": "ipython",
    "version": 3
   },
   "file_extension": ".py",
   "mimetype": "text/x-python",
   "name": "python",
   "nbconvert_exporter": "python",
   "pygments_lexer": "ipython3",
   "version": "3.11.8"
  }
 },
 "nbformat": 4,
 "nbformat_minor": 5
}
